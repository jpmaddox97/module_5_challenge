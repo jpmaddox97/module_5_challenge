{
 "cells": [
  {
   "cell_type": "markdown",
   "metadata": {},
   "source": [
    "# Financial Planning with APIs and Simulations\n",
    "\n",
    "In this Challenge, you’ll create two financial analysis tools by using a single Jupyter notebook:\n",
    "\n",
    "Part 1: A financial planner for emergencies. The members will be able to use this tool to visualize their current savings. The members can then determine if they have enough reserves for an emergency fund.\n",
    "\n",
    "Part 2: A financial planner for retirement. This tool will forecast the performance of their retirement portfolio in 30 years. To do this, the tool will make an Alpaca API call via the Alpaca SDK to get historical price data for use in Monte Carlo simulations.\n",
    "\n",
    "You’ll use the information from the Monte Carlo simulation to answer questions about the portfolio in your Jupyter notebook.\n",
    "\n"
   ]
  },
  {
   "cell_type": "code",
   "execution_count": 1,
   "metadata": {},
   "outputs": [],
   "source": [
    "# Import the required libraries and dependencies\n",
    "import os\n",
    "import requests\n",
    "import json\n",
    "import pandas as pd\n",
    "from dotenv import load_dotenv\n",
    "import alpaca_trade_api as tradeapi\n",
    "from MCForecastTools import MCSimulation\n",
    "\n",
    "%matplotlib inline"
   ]
  },
  {
   "cell_type": "code",
   "execution_count": 2,
   "metadata": {},
   "outputs": [
    {
     "data": {
      "text/plain": [
       "True"
      ]
     },
     "execution_count": 2,
     "metadata": {},
     "output_type": "execute_result"
    }
   ],
   "source": [
    "# Load the environment variables from the .env file\n",
    "#by calling the load_dotenv function\n",
    "load_dotenv()"
   ]
  },
  {
   "cell_type": "markdown",
   "metadata": {},
   "source": [
    "## Part 1: Create a Financial Planner for Emergencies"
   ]
  },
  {
   "cell_type": "markdown",
   "metadata": {},
   "source": [
    "### Evaluate the Cryptocurrency Wallet by Using the Requests Library\n",
    "\n",
    "In this section, you’ll determine the current value of a member’s cryptocurrency wallet. You’ll collect the current prices for the Bitcoin and Ethereum cryptocurrencies by using the Python Requests library. For the prototype, you’ll assume that the member holds the 1.2 Bitcoins (BTC) and 5.3 Ethereum coins (ETH). To do all this, complete the following steps:\n",
    "\n",
    "1. Create a variable named `monthly_income`, and set its value to `12000`.\n",
    "\n",
    "2. Use the Requests library to get the current price (in US dollars) of Bitcoin (BTC) and Ethereum (ETH) by using the API endpoints that the starter code supplies.\n",
    "\n",
    "3. Navigate the JSON response object to access the current price of each coin, and store each in a variable.\n",
    "\n",
    "    > **Hint** Note the specific identifier for each cryptocurrency in the API JSON response. The Bitcoin identifier is `1`, and the Ethereum identifier is `1027`.\n",
    "\n",
    "4. Calculate the value, in US dollars, of the current amount of each cryptocurrency and of the entire cryptocurrency wallet.\n",
    "\n"
   ]
  },
  {
   "cell_type": "code",
   "execution_count": 3,
   "metadata": {},
   "outputs": [],
   "source": [
    "# The current number of coins for each cryptocurrency asset held in the portfolio.\n",
    "btc_coins = 1.2\n",
    "eth_coins = 5.3"
   ]
  },
  {
   "cell_type": "markdown",
   "metadata": {},
   "source": [
    "#### Step 1: Create a variable named `monthly_income`, and set its value to `12000`."
   ]
  },
  {
   "cell_type": "code",
   "execution_count": 4,
   "metadata": {},
   "outputs": [],
   "source": [
    "# The monthly amount for the member's household income\n",
    "monthly_income = 12000\n"
   ]
  },
  {
   "cell_type": "markdown",
   "metadata": {},
   "source": [
    "#### Review the endpoint URLs for the API calls to Free Crypto API in order to get the current pricing information for both BTC and ETH."
   ]
  },
  {
   "cell_type": "code",
   "execution_count": 5,
   "metadata": {},
   "outputs": [],
   "source": [
    "# The Free Crypto API Call endpoint URLs for the held cryptocurrency assets\n",
    "btc_url = \"https://api.alternative.me/v2/ticker/Bitcoin/?convert=USD\"\n",
    "eth_url = \"https://api.alternative.me/v2/ticker/Ethereum/?convert=USD\""
   ]
  },
  {
   "cell_type": "markdown",
   "metadata": {},
   "source": [
    "#### Step 2. Use the Requests library to get the current price (in US dollars) of Bitcoin (BTC) and Ethereum (ETH) by using the API endpoints that the starter code supplied."
   ]
  },
  {
   "cell_type": "code",
   "execution_count": 6,
   "metadata": {},
   "outputs": [
    {
     "name": "stdout",
     "output_type": "stream",
     "text": [
      "{\n",
      "    \"data\": {\n",
      "        \"1\": {\n",
      "            \"circulating_supply\": 18770368,\n",
      "            \"id\": 1,\n",
      "            \"last_updated\": 1627581270,\n",
      "            \"max_supply\": 21000000,\n",
      "            \"name\": \"Bitcoin\",\n",
      "            \"quotes\": {\n",
      "                \"USD\": {\n",
      "                    \"market_cap\": 746575015563,\n",
      "                    \"percent_change_1h\": 0.181488215645216,\n",
      "                    \"percent_change_24h\": 1.81993486848674,\n",
      "                    \"percent_change_7d\": 23.0984615052603,\n",
      "                    \"percentage_change_1h\": 0.181488215645216,\n",
      "                    \"percentage_change_24h\": 1.81993486848674,\n",
      "                    \"percentage_change_7d\": 23.0984615052603,\n",
      "                    \"price\": 39864.0,\n",
      "                    \"volume_24h\": 31729018768\n",
      "                }\n",
      "            },\n",
      "            \"rank\": 1,\n",
      "            \"symbol\": \"BTC\",\n",
      "            \"total_supply\": 18770368,\n",
      "            \"website_slug\": \"bitcoin\"\n",
      "        }\n",
      "    },\n",
      "    \"metadata\": {\n",
      "        \"error\": null,\n",
      "        \"num_cryptocurrencies\": 3105,\n",
      "        \"timestamp\": 1627581270\n",
      "    }\n",
      "}\n"
     ]
    }
   ],
   "source": [
    "# Using the Python requests library, make an API call to access the current price of BTC\n",
    "btc_response = requests.get(btc_url).json()\n",
    "\n",
    "# Use the json.dumps function to review the response data from the API call\n",
    "# Use the indent and sort_keys parameters to make the response object readable\n",
    "print(json.dumps(btc_response, indent=4, sort_keys=True))\n"
   ]
  },
  {
   "cell_type": "code",
   "execution_count": 7,
   "metadata": {},
   "outputs": [
    {
     "name": "stdout",
     "output_type": "stream",
     "text": [
      "{\n",
      "    \"data\": {\n",
      "        \"1027\": {\n",
      "            \"circulating_supply\": 116891107,\n",
      "            \"id\": 1027,\n",
      "            \"last_updated\": 1627581267,\n",
      "            \"max_supply\": 0,\n",
      "            \"name\": \"Ethereum\",\n",
      "            \"quotes\": {\n",
      "                \"USD\": {\n",
      "                    \"market_cap\": 272331969763,\n",
      "                    \"percent_change_1h\": 0.243239567756391,\n",
      "                    \"percent_change_24h\": 2.9064664882761,\n",
      "                    \"percent_change_7d\": 16.3681068833304,\n",
      "                    \"percentage_change_1h\": 0.243239567756391,\n",
      "                    \"percentage_change_24h\": 2.9064664882761,\n",
      "                    \"percentage_change_7d\": 16.3681068833304,\n",
      "                    \"price\": 2331.7,\n",
      "                    \"volume_24h\": 18087614636\n",
      "                }\n",
      "            },\n",
      "            \"rank\": 2,\n",
      "            \"symbol\": \"ETH\",\n",
      "            \"total_supply\": 116891107,\n",
      "            \"website_slug\": \"ethereum\"\n",
      "        }\n",
      "    },\n",
      "    \"metadata\": {\n",
      "        \"error\": null,\n",
      "        \"num_cryptocurrencies\": 3105,\n",
      "        \"timestamp\": 1627581267\n",
      "    }\n",
      "}\n"
     ]
    }
   ],
   "source": [
    "# Using the Python requests library, make an API call to access the current price ETH\n",
    "eth_response = requests.get(eth_url).json()\n",
    "\n",
    "# Use the json.dumps function to review the response data from the API call\n",
    "# Use the indent and sort_keys parameters to make the response object readable\n",
    "print(json.dumps(eth_response, indent=4, sort_keys=True))\n"
   ]
  },
  {
   "cell_type": "markdown",
   "metadata": {},
   "source": [
    "#### Step 3: Navigate the JSON response object to access the current price of each coin, and store each in a variable."
   ]
  },
  {
   "cell_type": "code",
   "execution_count": 8,
   "metadata": {},
   "outputs": [
    {
     "data": {
      "text/plain": [
       "39864.0"
      ]
     },
     "execution_count": 8,
     "metadata": {},
     "output_type": "execute_result"
    }
   ],
   "source": [
    "# Navigate the BTC response object to access the current price of BTC\n",
    "btc_price = btc_response['data']['1']['quotes']['USD']['price']\n",
    "\n",
    "# Print the current price of BTC\n",
    "btc_price\n"
   ]
  },
  {
   "cell_type": "code",
   "execution_count": 9,
   "metadata": {},
   "outputs": [
    {
     "data": {
      "text/plain": [
       "2331.7"
      ]
     },
     "execution_count": 9,
     "metadata": {},
     "output_type": "execute_result"
    }
   ],
   "source": [
    "# Navigate the BTC response object to access the current price of ETH\n",
    "eth_price = eth_response['data']['1027']['quotes']['USD']['price']\n",
    "\n",
    "# Print the current price of ETH\n",
    "eth_price\n"
   ]
  },
  {
   "cell_type": "markdown",
   "metadata": {},
   "source": [
    "### Step 4: Calculate the value, in US dollars, of the current amount of each cryptocurrency and of the entire cryptocurrency wallet."
   ]
  },
  {
   "cell_type": "code",
   "execution_count": 10,
   "metadata": {},
   "outputs": [
    {
     "data": {
      "text/plain": [
       "47836.799999999996"
      ]
     },
     "execution_count": 10,
     "metadata": {},
     "output_type": "execute_result"
    }
   ],
   "source": [
    "# Compute the current value of the BTC holding \n",
    "btc_value = btc_coins * btc_price\n",
    "\n",
    "# Print current value of your holding in BTC\n",
    "btc_value\n"
   ]
  },
  {
   "cell_type": "code",
   "execution_count": 11,
   "metadata": {},
   "outputs": [
    {
     "data": {
      "text/plain": [
       "12358.009999999998"
      ]
     },
     "execution_count": 11,
     "metadata": {},
     "output_type": "execute_result"
    }
   ],
   "source": [
    "# Compute the current value of the ETH holding \n",
    "eth_value = eth_coins * eth_price\n",
    "\n",
    "# Print current value of your holding in ETH\n",
    "eth_value\n"
   ]
  },
  {
   "cell_type": "code",
   "execution_count": 12,
   "metadata": {},
   "outputs": [
    {
     "data": {
      "text/plain": [
       "60194.81"
      ]
     },
     "execution_count": 12,
     "metadata": {},
     "output_type": "execute_result"
    }
   ],
   "source": [
    "# Compute the total value of the cryptocurrency wallet\n",
    "# Add the value of the BTC holding to the value of the ETH holding\n",
    "total_crypto_wallet = btc_value + eth_value\n",
    "\n",
    "# Print current cryptocurrency wallet balance\n",
    "total_crypto_wallet\n"
   ]
  },
  {
   "cell_type": "markdown",
   "metadata": {},
   "source": [
    "### Evaluate the Stock and Bond Holdings by Using the Alpaca SDK\n",
    "\n",
    "In this section, you’ll determine the current value of a member’s stock and bond holdings. You’ll make an API call to Alpaca via the Alpaca SDK to get the current closing prices of the SPDR S&P 500 ETF Trust (ticker: SPY) and of the iShares Core US Aggregate Bond ETF (ticker: AGG). For the prototype, assume that the member holds 110 shares of SPY, which represents the stock portion of their portfolio, and 200 shares of AGG, which represents the bond portion. To do all this, complete the following steps:\n",
    "\n",
    "1. In the `Starter_Code` folder, create an environment file (`.env`) to store the values of your Alpaca API key and Alpaca secret key.\n",
    "\n",
    "2. Set the variables for the Alpaca API and secret keys. Using the Alpaca SDK, create the Alpaca `tradeapi.REST` object. In this object, include the parameters for the Alpaca API key, the secret key, and the version number.\n",
    "\n",
    "3. Set the following parameters for the Alpaca API call:\n",
    "\n",
    "    - `tickers`: Use the tickers for the member’s stock and bond holdings.\n",
    "\n",
    "    - `timeframe`: Use a time frame of one day.\n",
    "\n",
    "    - `start_date` and `end_date`: Use the same date for these parameters, and format them with the date of the previous weekday (or `2020-08-07`). This is because you want the one closing price for the most-recent trading day.\n",
    "\n",
    "4. Get the current closing prices for `SPY` and `AGG` by using the Alpaca `get_barset` function. Format the response as a Pandas DataFrame by including the `df` property at the end of the `get_barset` function.\n",
    "\n",
    "5. Navigating the Alpaca response DataFrame, select the `SPY` and `AGG` closing prices, and store them as variables.\n",
    "\n",
    "6. Calculate the value, in US dollars, of the current amount of shares in each of the stock and bond portions of the portfolio, and print the results.\n"
   ]
  },
  {
   "cell_type": "markdown",
   "metadata": {},
   "source": [
    "#### Review the total number of shares held in both (SPY) and (AGG)."
   ]
  },
  {
   "cell_type": "code",
   "execution_count": 13,
   "metadata": {},
   "outputs": [],
   "source": [
    "# Current amount of shares held in both the stock (SPY) and bond (AGG) portion of the portfolio.\n",
    "spy_shares = 110\n",
    "agg_shares = 200\n"
   ]
  },
  {
   "cell_type": "markdown",
   "metadata": {},
   "source": [
    "#### Step 1: In the `Starter_Code` folder, create an environment file (`.env`) to store the values of your Alpaca API key and Alpaca secret key."
   ]
  },
  {
   "cell_type": "markdown",
   "metadata": {},
   "source": [
    "#### Step 2: Set the variables for the Alpaca API and secret keys. Using the Alpaca SDK, create the Alpaca `tradeapi.REST` object. In this object, include the parameters for the Alpaca API key, the secret key, and the version number."
   ]
  },
  {
   "cell_type": "code",
   "execution_count": 14,
   "metadata": {},
   "outputs": [
    {
     "data": {
      "text/plain": [
       "str"
      ]
     },
     "metadata": {},
     "output_type": "display_data"
    },
    {
     "data": {
      "text/plain": [
       "str"
      ]
     },
     "metadata": {},
     "output_type": "display_data"
    }
   ],
   "source": [
    "# Set the variables for the Alpaca API and secret keys\n",
    "alpaca_api = os.getenv('ALPACA_API_KEY_ENV')\n",
    "alpaca_secrect_key = os.getenv('ALPACA_SECRET_KEY_ENV')\n",
    "\n",
    "# Create the Alpaca tradeapi.REST object\n",
    "alpaca = tradeapi.REST(\n",
    "    alpaca_api, \n",
    "    alpaca_secrect_key,\n",
    "    api_version='v2')\n",
    "\n",
    "display(type(alpaca_api))\n",
    "display(type(alpaca_secrect_key))"
   ]
  },
  {
   "cell_type": "markdown",
   "metadata": {},
   "source": [
    "#### Step 3: Set the following parameters for the Alpaca API call:\n",
    "\n",
    "- `tickers`: Use the tickers for the member’s stock and bond holdings.\n",
    "\n",
    "- `timeframe`: Use a time frame of one day.\n",
    "\n",
    "- `start_date` and `end_date`: Use the same date for these parameters, and format them with the date of the previous weekday (or `2020-08-07`). This is because you want the one closing price for the most-recent trading day.\n"
   ]
  },
  {
   "cell_type": "code",
   "execution_count": 15,
   "metadata": {},
   "outputs": [],
   "source": [
    "# Set the tickers for both the bond and stock portion of the portfolio\n",
    "tickers = ['SPY', 'AGG']\n",
    "\n",
    "# Set timeframe to 1D \n",
    "timeframe = '1D'\n",
    "\n",
    "# Format current date as ISO format\n",
    "# Set both the start and end date at the date of your prior weekday \n",
    "# This will give you the closing price of the previous trading day\n",
    "# Alternatively you can use a start and end date of 2020-08-07\n",
    "start_date = pd.Timestamp('2021-07-27', tz='America/New_York').isoformat()\n",
    "end_date = pd.Timestamp('2021-07-27', tz='America/New_York').isoformat()\n"
   ]
  },
  {
   "cell_type": "markdown",
   "metadata": {},
   "source": [
    "#### Step 4: Get the current closing prices for `SPY` and `AGG` by using the Alpaca `get_barset` function. Format the response as a Pandas DataFrame by including the `df` property at the end of the `get_barset` function."
   ]
  },
  {
   "cell_type": "code",
   "execution_count": 16,
   "metadata": {},
   "outputs": [
    {
     "data": {
      "text/html": [
       "<div>\n",
       "<style scoped>\n",
       "    .dataframe tbody tr th:only-of-type {\n",
       "        vertical-align: middle;\n",
       "    }\n",
       "\n",
       "    .dataframe tbody tr th {\n",
       "        vertical-align: top;\n",
       "    }\n",
       "\n",
       "    .dataframe thead tr th {\n",
       "        text-align: left;\n",
       "    }\n",
       "</style>\n",
       "<table border=\"1\" class=\"dataframe\">\n",
       "  <thead>\n",
       "    <tr>\n",
       "      <th></th>\n",
       "      <th colspan=\"5\" halign=\"left\">AGG</th>\n",
       "      <th colspan=\"5\" halign=\"left\">SPY</th>\n",
       "    </tr>\n",
       "    <tr>\n",
       "      <th></th>\n",
       "      <th>open</th>\n",
       "      <th>high</th>\n",
       "      <th>low</th>\n",
       "      <th>close</th>\n",
       "      <th>volume</th>\n",
       "      <th>open</th>\n",
       "      <th>high</th>\n",
       "      <th>low</th>\n",
       "      <th>close</th>\n",
       "      <th>volume</th>\n",
       "    </tr>\n",
       "  </thead>\n",
       "  <tbody>\n",
       "    <tr>\n",
       "      <th>2021-07-27</th>\n",
       "      <td>116.35</td>\n",
       "      <td>116.4</td>\n",
       "      <td>116.2727</td>\n",
       "      <td>116.39</td>\n",
       "      <td>4669859</td>\n",
       "      <td>439.91</td>\n",
       "      <td>439.94</td>\n",
       "      <td>435.99</td>\n",
       "      <td>439</td>\n",
       "      <td>61032234</td>\n",
       "    </tr>\n",
       "  </tbody>\n",
       "</table>\n",
       "</div>"
      ],
      "text/plain": [
       "               AGG                                       SPY                  \\\n",
       "              open   high       low   close   volume    open    high     low   \n",
       "2021-07-27  116.35  116.4  116.2727  116.39  4669859  439.91  439.94  435.99   \n",
       "\n",
       "                            \n",
       "           close    volume  \n",
       "2021-07-27   439  61032234  "
      ]
     },
     "execution_count": 16,
     "metadata": {},
     "output_type": "execute_result"
    }
   ],
   "source": [
    "# Use the Alpaca get_barset function to get current closing prices the portfolio\n",
    "# Be sure to set the `df` property after the function to format the response object as a DataFrame\n",
    "portfolio_df = alpaca.get_barset(\n",
    "    tickers,\n",
    "    timeframe,\n",
    "    start=start_date,\n",
    "    end=end_date).df\n",
    "\n",
    "# Review the first 5 rows of the Alpaca DataFrame\n",
    "portfolio_df.index = portfolio_df.index.date\n",
    "portfolio_df.head()\n"
   ]
  },
  {
   "cell_type": "markdown",
   "metadata": {},
   "source": [
    "#### Step 5: Navigating the Alpaca response DataFrame, select the `SPY` and `AGG` closing prices, and store them as variables."
   ]
  },
  {
   "cell_type": "code",
   "execution_count": 17,
   "metadata": {},
   "outputs": [
    {
     "data": {
      "text/plain": [
       "2021-07-27    116.39\n",
       "Name: close, dtype: float64"
      ]
     },
     "execution_count": 17,
     "metadata": {},
     "output_type": "execute_result"
    }
   ],
   "source": [
    "# Access the closing price for AGG from the Alpaca DataFrame\n",
    "# Converting the value to a floating point number\n",
    "agg_close_price = portfolio_df['AGG']['close']\n",
    "\n",
    "# Print the AGG closing price\n",
    "agg_close_price\n"
   ]
  },
  {
   "cell_type": "code",
   "execution_count": 18,
   "metadata": {},
   "outputs": [
    {
     "data": {
      "text/plain": [
       "2021-07-27    439\n",
       "Name: close, dtype: int64"
      ]
     },
     "execution_count": 18,
     "metadata": {},
     "output_type": "execute_result"
    }
   ],
   "source": [
    "# Access the closing price for SPY from the Alpaca DataFrame\n",
    "# Converting the value to a floating point number\n",
    "spy_close_price = portfolio_df['SPY']['close']\n",
    "\n",
    "# Print the SPY closing price\n",
    "spy_close_price\n"
   ]
  },
  {
   "cell_type": "markdown",
   "metadata": {},
   "source": [
    "#### Step 6: Calculate the value, in US dollars, of the current amount of shares in each of the stock and bond portions of the portfolio, and print the results."
   ]
  },
  {
   "cell_type": "code",
   "execution_count": 19,
   "metadata": {},
   "outputs": [
    {
     "data": {
      "text/plain": [
       "23278.0"
      ]
     },
     "execution_count": 19,
     "metadata": {},
     "output_type": "execute_result"
    }
   ],
   "source": [
    "# Calculate the current value of the bond portion of the portfolio\n",
    "agg_value = agg_close_price.iloc[0] * agg_shares\n",
    "\n",
    "# Print the current value of the bond portfolio\n",
    "agg_value\n"
   ]
  },
  {
   "cell_type": "code",
   "execution_count": 20,
   "metadata": {},
   "outputs": [
    {
     "data": {
      "text/plain": [
       "48290"
      ]
     },
     "execution_count": 20,
     "metadata": {},
     "output_type": "execute_result"
    }
   ],
   "source": [
    "# Calculate the current value of the stock portion of the portfolio\n",
    "spy_value = spy_close_price.iloc[0] * spy_shares\n",
    "\n",
    "# Print the current value of the stock portfolio\n",
    "spy_value\n"
   ]
  },
  {
   "cell_type": "code",
   "execution_count": 21,
   "metadata": {},
   "outputs": [
    {
     "data": {
      "text/plain": [
       "71568.0"
      ]
     },
     "execution_count": 21,
     "metadata": {},
     "output_type": "execute_result"
    }
   ],
   "source": [
    "# Calculate the total value of the stock and bond portion of the portfolio\n",
    "total_stocks_bonds = agg_value + spy_value\n",
    "\n",
    "# Print the current balance of the stock and bond portion of the portfolio\n",
    "total_stocks_bonds\n"
   ]
  },
  {
   "cell_type": "code",
   "execution_count": 22,
   "metadata": {},
   "outputs": [
    {
     "data": {
      "text/plain": [
       "131762.81"
      ]
     },
     "execution_count": 22,
     "metadata": {},
     "output_type": "execute_result"
    }
   ],
   "source": [
    "# Calculate the total value of the member's entire savings portfolio\n",
    "# Add the value of the cryptocurrency walled to the value of the total stocks and bonds\n",
    "total_portfolio = total_crypto_wallet + total_stocks_bonds\n",
    "\n",
    "# Print current cryptocurrency wallet balance\n",
    "total_portfolio\n"
   ]
  },
  {
   "cell_type": "markdown",
   "metadata": {},
   "source": [
    "### Evaluate the Emergency Fund\n",
    "\n",
    "In this section, you’ll use the valuations for the cryptocurrency wallet and for the stock and bond portions of the portfolio to determine if the credit union member has enough savings to build an emergency fund into their financial plan. To do this, complete the following steps:\n",
    "\n",
    "1. Create a Python list named `savings_data` that has two elements. The first element contains the total value of the cryptocurrency wallet. The second element contains the total value of the stock and bond portions of the portfolio.\n",
    "\n",
    "2. Use the `savings_data` list to create a Pandas DataFrame named `savings_df`, and then display this DataFrame. The function to create the DataFrame should take the following three parameters:\n",
    "\n",
    "    - `savings_data`: Use the list that you just created.\n",
    "\n",
    "    - `columns`: Set this parameter equal to a Python list with a single value called `amount`.\n",
    "\n",
    "    - `index`: Set this parameter equal to a Python list with the values of `crypto` and `stock/bond`.\n",
    "\n",
    "3. Use the `savings_df` DataFrame to plot a pie chart that visualizes the composition of the member’s portfolio. The y-axis of the pie chart uses `amount`. Be sure to add a title.\n",
    "\n",
    "4. Using Python, determine if the current portfolio has enough to create an emergency fund as part of the member’s financial plan. Ideally, an emergency fund should equal to three times the member’s monthly income. To do this, implement the following steps:\n",
    "\n",
    "    1. Create a variable named `emergency_fund_value`, and set it equal to three times the value of the member’s `monthly_income` of $12000. (You set this earlier in Part 1).\n",
    "\n",
    "    2. Create a series of three if statements to determine if the member’s total portfolio is large enough to fund the emergency portfolio:\n",
    "\n",
    "        1. If the total portfolio value is greater than the emergency fund value, display a message congratulating the member for having enough money in this fund.\n",
    "\n",
    "        2. Else if the total portfolio value is equal to the emergency fund value, display a message congratulating the member on reaching this important financial goal.\n",
    "\n",
    "        3. Else the total portfolio is less than the emergency fund value, so display a message showing how many dollars away the member is from reaching the goal. (Subtract the total portfolio value from the emergency fund value.)\n"
   ]
  },
  {
   "cell_type": "markdown",
   "metadata": {},
   "source": [
    "#### Step 1: Create a Python list named `savings_data` that has two elements. The first element contains the total value of the cryptocurrency wallet. The second element contains the total value of the stock and bond portions of the portfolio."
   ]
  },
  {
   "cell_type": "code",
   "execution_count": 23,
   "metadata": {},
   "outputs": [
    {
     "data": {
      "text/plain": [
       "[60194.81, 71568.0]"
      ]
     },
     "execution_count": 23,
     "metadata": {},
     "output_type": "execute_result"
    }
   ],
   "source": [
    "# Consolidate financial assets data into a Python list\n",
    "savings_data =  [total_crypto_wallet, total_stocks_bonds]\n",
    "\n",
    "# Review the Python list savings_data\n",
    "savings_data\n",
    "    "
   ]
  },
  {
   "cell_type": "markdown",
   "metadata": {},
   "source": [
    "#### Step 2: Use the `savings_data` list to create a Pandas DataFrame named `savings_df`, and then display this DataFrame. The function to create the DataFrame should take the following three parameters:\n",
    "\n",
    "- `savings_data`: Use the list that you just created.\n",
    "\n",
    "- `columns`: Set this parameter equal to a Python list with a single value called `amount`.\n",
    "\n",
    "- `index`: Set this parameter equal to a Python list with the values of `crypto` and `stock/bond`.\n"
   ]
  },
  {
   "cell_type": "code",
   "execution_count": 24,
   "metadata": {},
   "outputs": [
    {
     "data": {
      "text/html": [
       "<div>\n",
       "<style scoped>\n",
       "    .dataframe tbody tr th:only-of-type {\n",
       "        vertical-align: middle;\n",
       "    }\n",
       "\n",
       "    .dataframe tbody tr th {\n",
       "        vertical-align: top;\n",
       "    }\n",
       "\n",
       "    .dataframe thead th {\n",
       "        text-align: right;\n",
       "    }\n",
       "</style>\n",
       "<table border=\"1\" class=\"dataframe\">\n",
       "  <thead>\n",
       "    <tr style=\"text-align: right;\">\n",
       "      <th></th>\n",
       "      <th>Amount</th>\n",
       "    </tr>\n",
       "  </thead>\n",
       "  <tbody>\n",
       "    <tr>\n",
       "      <th>Crypto</th>\n",
       "      <td>60194.81</td>\n",
       "    </tr>\n",
       "    <tr>\n",
       "      <th>Stock/Bond</th>\n",
       "      <td>71568.00</td>\n",
       "    </tr>\n",
       "  </tbody>\n",
       "</table>\n",
       "</div>"
      ],
      "text/plain": [
       "              Amount\n",
       "Crypto      60194.81\n",
       "Stock/Bond  71568.00"
      ]
     },
     "execution_count": 24,
     "metadata": {},
     "output_type": "execute_result"
    }
   ],
   "source": [
    "# Create a Pandas DataFrame called savings_df \n",
    "savings_df = pd.DataFrame(savings_data, columns=['Amount'], index=['Crypto', 'Stock/Bond'])\n",
    "\n",
    "# Display the savings_df DataFrame\n",
    "savings_df\n"
   ]
  },
  {
   "cell_type": "markdown",
   "metadata": {},
   "source": [
    "#### Step 3: Use the `savings_df` DataFrame to plot a pie chart that visualizes the composition of the member’s portfolio. The y-axis of the pie chart uses `amount`. Be sure to add a title."
   ]
  },
  {
   "cell_type": "code",
   "execution_count": 25,
   "metadata": {},
   "outputs": [
    {
     "data": {
      "text/plain": [
       "<AxesSubplot:title={'center':'Stock/Bond vs Crypto Pie Chart'}, ylabel='Amount'>"
      ]
     },
     "execution_count": 25,
     "metadata": {},
     "output_type": "execute_result"
    },
    {
     "data": {
      "image/png": "[encoded data removed]",
      "text/plain": [
       "<Figure size 1440x720 with 1 Axes>"
      ]
     },
     "metadata": {},
     "output_type": "display_data"
    }
   ],
   "source": [
    "# Plot the total value of the member's portfolio (crypto and stock/bond) in a pie chart\n",
    "savings_df.plot.pie(figsize=(20,10), y='Amount', title='Stock/Bond vs Crypto Pie Chart')\n"
   ]
  },
  {
   "cell_type": "markdown",
   "metadata": {},
   "source": [
    "#### Step 4: Using Python, determine if the current portfolio has enough to create an emergency fund as part of the member’s financial plan. Ideally, an emergency fund should equal to three times the member’s monthly income. To do this, implement the following steps:\n",
    "\n",
    "Step 1. Create a variable named `emergency_fund_value`, and set it equal to three times the value of the member’s `monthly_income` of 12000. (You set this earlier in Part 1).\n",
    "\n",
    "Step 2. Create a series of three if statements to determine if the member’s total portfolio is large enough to fund the emergency portfolio:\n",
    "\n",
    "* If the total portfolio value is greater than the emergency fund value, display a message congratulating the member for having enough money in this fund.\n",
    "\n",
    "* Else if the total portfolio value is equal to the emergency fund value, display a message congratulating the member on reaching this important financial goal.\n",
    "\n",
    "* Else the total portfolio is less than the emergency fund value, so display a message showing how many dollars away the member is from reaching the goal. (Subtract the total portfolio value from the emergency fund value.)\n"
   ]
  },
  {
   "cell_type": "markdown",
   "metadata": {},
   "source": [
    "##### Step 4-1: Create a variable named `emergency_fund_value`, and set it equal to three times the value of the member’s `monthly_income` of 12000. (You set this earlier in Part 1)."
   ]
  },
  {
   "cell_type": "code",
   "execution_count": 27,
   "metadata": {},
   "outputs": [],
   "source": [
    "# Create a variable named emergency_fund_value\n",
    "emergency_fund_value = 3 * monthly_income\n"
   ]
  },
  {
   "cell_type": "markdown",
   "metadata": {},
   "source": [
    "##### Step 4-2: Create a series of three if statements to determine if the member’s total portfolio is large enough to fund the emergency portfolio:\n",
    "\n",
    "* If the total portfolio value is greater than the emergency fund value, display a message congratulating the member for having enough money in this fund.\n",
    "\n",
    "* Else if the total portfolio value is equal to the emergency fund value, display a message congratulating the member on reaching this important financial goal.\n",
    "\n",
    "* Else the total portfolio is less than the emergency fund value, so display a message showing how many dollars away the member is from reaching the goal. (Subtract the total portfolio value from the emergency fund value.)"
   ]
  },
  {
   "cell_type": "code",
   "execution_count": 66,
   "metadata": {},
   "outputs": [
    {
     "name": "stdout",
     "output_type": "stream",
     "text": [
      "Congratulations! You have enough to fund your emergency fund. You will have $95762.81 left after funding your emergency fund.\n"
     ]
    }
   ],
   "source": [
    "# Evaluate the possibility of creating an emergency fund with 3 conditions:\n",
    "if savings_df['Amount'].sum() > emergency_fund_value:\n",
    "    print(f\"Congratulations! You have enough to fund your emergency fund. You will have ${(savings_df['Amount'].sum()) - emergency_fund_value} left after funding your emergency fund.\")\n",
    "elif savings_df['Amount'].sum() == emergency_fund_value:\n",
    "    print(f\"Congratulations on reaching this important financial goal!\")\n",
    "else:\n",
    "    print(f\"You still have a little ways to go. You are ${emergency_fund_value - (savings_df['Amount'].sum())} away from your goal.\")\n"
   ]
  },
  {
   "cell_type": "markdown",
   "metadata": {},
   "source": [
    "## Part 2: Create a Financial Planner for Retirement"
   ]
  },
  {
   "cell_type": "markdown",
   "metadata": {},
   "source": [
    "### Create the Monte Carlo Simulation\n",
    "\n",
    "In this section, you’ll use the MCForecastTools library to create a Monte Carlo simulation for the member’s savings portfolio. To do this, complete the following steps:\n",
    "\n",
    "1. Make an API call via the Alpaca SDK to get 3 years of historical closing prices for a traditional 60/40 portfolio split: 60% stocks (SPY) and 40% bonds (AGG).\n",
    "\n",
    "2. Run a Monte Carlo simulation of 500 samples and 30 years for the 60/40 portfolio, and then plot the results.The following image shows the overlay line plot resulting from a simulation with these characteristics. However, because a random number generator is used to run each live Monte Carlo simulation, your image will differ slightly from this exact image:\n",
    "\n",
    "![A screenshot depicts the resulting plot.](Images/5-4-monte-carlo-line-plot.png)\n",
    "\n",
    "3. Plot the probability distribution of the Monte Carlo simulation. Plot the probability distribution of the Monte Carlo simulation. The following image shows the histogram plot resulting from a simulation with these characteristics. However, because a random number generator is used to run each live Monte Carlo simulation, your image will differ slightly from this exact image:\n",
    "\n",
    "![A screenshot depicts the histogram plot.](Images/5-4-monte-carlo-histogram.png)\n",
    "\n",
    "4. Generate the summary statistics for the Monte Carlo simulation.\n",
    "\n"
   ]
  },
  {
   "cell_type": "markdown",
   "metadata": {},
   "source": [
    "#### Step 1: Make an API call via the Alpaca SDK to get 3 years of historical closing prices for a traditional 60/40 portfolio split: 60% stocks (SPY) and 40% bonds (AGG)."
   ]
  },
  {
   "cell_type": "code",
   "execution_count": 31,
   "metadata": {},
   "outputs": [
    {
     "data": {
      "text/plain": [
       "\u001b[1;31mInit signature:\u001b[0m\n",
       "\u001b[0mMCSimulation\u001b[0m\u001b[1;33m(\u001b[0m\u001b[1;33m\n",
       "\u001b[0m    \u001b[0mportfolio_data\u001b[0m\u001b[1;33m,\u001b[0m\u001b[1;33m\n",
       "\u001b[0m    \u001b[0mweights\u001b[0m\u001b[1;33m=\u001b[0m\u001b[1;34m''\u001b[0m\u001b[1;33m,\u001b[0m\u001b[1;33m\n",
       "\u001b[0m    \u001b[0mnum_simulation\u001b[0m\u001b[1;33m=\u001b[0m\u001b[1;36m1000\u001b[0m\u001b[1;33m,\u001b[0m\u001b[1;33m\n",
       "\u001b[0m    \u001b[0mnum_trading_days\u001b[0m\u001b[1;33m=\u001b[0m\u001b[1;36m252\u001b[0m\u001b[1;33m,\u001b[0m\u001b[1;33m\n",
       "\u001b[0m\u001b[1;33m)\u001b[0m\u001b[1;33m\u001b[0m\u001b[1;33m\u001b[0m\u001b[0m\n",
       "\u001b[1;31mDocstring:\u001b[0m     \n",
       "A Python class for runnning Monte Carlo simulation on portfolio price data. \n",
       "\n",
       "...\n",
       "\n",
       "Attributes\n",
       "----------\n",
       "portfolio_data : pandas.DataFrame\n",
       "    portfolio dataframe\n",
       "weights: list(float)\n",
       "    portfolio investment breakdown\n",
       "nSim: int\n",
       "    number of samples in simulation\n",
       "nTrading: int\n",
       "    number of trading days to simulate\n",
       "simulated_return : pandas.DataFrame\n",
       "    Simulated data from Monte Carlo\n",
       "confidence_interval : pandas.Series\n",
       "    the 95% confidence intervals for simulated final cumulative returns\n",
       "    \n",
       "\u001b[1;31mInit docstring:\u001b[0m\n",
       "Constructs all the necessary attributes for the MCSimulation object.\n",
       "\n",
       "Parameters\n",
       "----------\n",
       "portfolio_data: pandas.DataFrame\n",
       "    DataFrame containing stock price information from Alpaca API\n",
       "weights: list(float)\n",
       "    A list fractions representing percentage of total investment per stock. DEFAULT: Equal distribution\n",
       "num_simulation: int\n",
       "    Number of simulation samples. DEFAULT: 1000 simulation samples\n",
       "num_trading_days: int\n",
       "    Number of trading days to simulate. DEFAULT: 252 days (1 year of business days)\n",
       "\u001b[1;31mFile:\u001b[0m           c:\\users\\jpmad\\onedrive\\desktop\\col_fintechbc\\workspace\\module_5_challenge\\starter_code\\mcforecasttools.py\n",
       "\u001b[1;31mType:\u001b[0m           type\n",
       "\u001b[1;31mSubclasses:\u001b[0m     \n"
      ]
     },
     "metadata": {},
     "output_type": "display_data"
    }
   ],
   "source": [
    "# Get Monte Carlo simulation documentation\n",
    "?MCSimulation"
   ]
  },
  {
   "cell_type": "code",
   "execution_count": 35,
   "metadata": {},
   "outputs": [],
   "source": [
    "# Set start and end dates of 3 years back from your current date\n",
    "# Alternatively, you can use an end date of 2020-08-07 and work 3 years back from that date \n",
    "start_date = pd.Timestamp('2018-07-28', tz='America/New_York').isoformat()\n",
    "end_date = pd.Timestamp('2021-07-28', tz='America/New_York').isoformat()\n",
    "\n",
    "\n",
    "# Set number of rows to 1000 to retrieve the maximum amount of rows\n",
    "limit=1000"
   ]
  },
  {
   "cell_type": "code",
   "execution_count": 67,
   "metadata": {},
   "outputs": [
    {
     "data": {
      "text/html": [
       "<div>\n",
       "<style scoped>\n",
       "    .dataframe tbody tr th:only-of-type {\n",
       "        vertical-align: middle;\n",
       "    }\n",
       "\n",
       "    .dataframe tbody tr th {\n",
       "        vertical-align: top;\n",
       "    }\n",
       "\n",
       "    .dataframe thead tr th {\n",
       "        text-align: left;\n",
       "    }\n",
       "</style>\n",
       "<table border=\"1\" class=\"dataframe\">\n",
       "  <thead>\n",
       "    <tr>\n",
       "      <th></th>\n",
       "      <th colspan=\"5\" halign=\"left\">AGG</th>\n",
       "      <th colspan=\"5\" halign=\"left\">SPY</th>\n",
       "    </tr>\n",
       "    <tr>\n",
       "      <th></th>\n",
       "      <th>open</th>\n",
       "      <th>high</th>\n",
       "      <th>low</th>\n",
       "      <th>close</th>\n",
       "      <th>volume</th>\n",
       "      <th>open</th>\n",
       "      <th>high</th>\n",
       "      <th>low</th>\n",
       "      <th>close</th>\n",
       "      <th>volume</th>\n",
       "    </tr>\n",
       "  </thead>\n",
       "  <tbody>\n",
       "    <tr>\n",
       "      <th>2018-07-30</th>\n",
       "      <td>105.94</td>\n",
       "      <td>106.0500</td>\n",
       "      <td>105.910</td>\n",
       "      <td>105.95</td>\n",
       "      <td>2784448.0</td>\n",
       "      <td>281.49</td>\n",
       "      <td>281.69</td>\n",
       "      <td>279.3600</td>\n",
       "      <td>279.89</td>\n",
       "      <td>46935673</td>\n",
       "    </tr>\n",
       "    <tr>\n",
       "      <th>2018-07-31</th>\n",
       "      <td>106.11</td>\n",
       "      <td>106.1756</td>\n",
       "      <td>106.050</td>\n",
       "      <td>106.06</td>\n",
       "      <td>4704161.0</td>\n",
       "      <td>280.81</td>\n",
       "      <td>282.02</td>\n",
       "      <td>280.3800</td>\n",
       "      <td>281.22</td>\n",
       "      <td>48645613</td>\n",
       "    </tr>\n",
       "    <tr>\n",
       "      <th>2018-08-01</th>\n",
       "      <td>105.55</td>\n",
       "      <td>105.7600</td>\n",
       "      <td>105.512</td>\n",
       "      <td>105.69</td>\n",
       "      <td>3896190.0</td>\n",
       "      <td>281.56</td>\n",
       "      <td>282.13</td>\n",
       "      <td>280.1315</td>\n",
       "      <td>280.92</td>\n",
       "      <td>40627557</td>\n",
       "    </tr>\n",
       "    <tr>\n",
       "      <th>2018-08-02</th>\n",
       "      <td>105.76</td>\n",
       "      <td>105.7600</td>\n",
       "      <td>105.650</td>\n",
       "      <td>105.73</td>\n",
       "      <td>2989387.0</td>\n",
       "      <td>279.38</td>\n",
       "      <td>282.58</td>\n",
       "      <td>279.1600</td>\n",
       "      <td>282.34</td>\n",
       "      <td>42491022</td>\n",
       "    </tr>\n",
       "    <tr>\n",
       "      <th>2018-08-03</th>\n",
       "      <td>105.81</td>\n",
       "      <td>105.9799</td>\n",
       "      <td>105.810</td>\n",
       "      <td>105.93</td>\n",
       "      <td>2286629.0</td>\n",
       "      <td>282.53</td>\n",
       "      <td>283.65</td>\n",
       "      <td>282.3300</td>\n",
       "      <td>283.64</td>\n",
       "      <td>34485363</td>\n",
       "    </tr>\n",
       "  </tbody>\n",
       "</table>\n",
       "</div>"
      ],
      "text/plain": [
       "               AGG                                           SPY          \\\n",
       "              open      high      low   close     volume    open    high   \n",
       "2018-07-30  105.94  106.0500  105.910  105.95  2784448.0  281.49  281.69   \n",
       "2018-07-31  106.11  106.1756  106.050  106.06  4704161.0  280.81  282.02   \n",
       "2018-08-01  105.55  105.7600  105.512  105.69  3896190.0  281.56  282.13   \n",
       "2018-08-02  105.76  105.7600  105.650  105.73  2989387.0  279.38  282.58   \n",
       "2018-08-03  105.81  105.9799  105.810  105.93  2286629.0  282.53  283.65   \n",
       "\n",
       "                                        \n",
       "                 low   close    volume  \n",
       "2018-07-30  279.3600  279.89  46935673  \n",
       "2018-07-31  280.3800  281.22  48645613  \n",
       "2018-08-01  280.1315  280.92  40627557  \n",
       "2018-08-02  279.1600  282.34  42491022  \n",
       "2018-08-03  282.3300  283.64  34485363  "
      ]
     },
     "metadata": {},
     "output_type": "display_data"
    },
    {
     "data": {
      "text/html": [
       "<div>\n",
       "<style scoped>\n",
       "    .dataframe tbody tr th:only-of-type {\n",
       "        vertical-align: middle;\n",
       "    }\n",
       "\n",
       "    .dataframe tbody tr th {\n",
       "        vertical-align: top;\n",
       "    }\n",
       "\n",
       "    .dataframe thead tr th {\n",
       "        text-align: left;\n",
       "    }\n",
       "</style>\n",
       "<table border=\"1\" class=\"dataframe\">\n",
       "  <thead>\n",
       "    <tr>\n",
       "      <th></th>\n",
       "      <th colspan=\"5\" halign=\"left\">AGG</th>\n",
       "      <th colspan=\"5\" halign=\"left\">SPY</th>\n",
       "    </tr>\n",
       "    <tr>\n",
       "      <th></th>\n",
       "      <th>open</th>\n",
       "      <th>high</th>\n",
       "      <th>low</th>\n",
       "      <th>close</th>\n",
       "      <th>volume</th>\n",
       "      <th>open</th>\n",
       "      <th>high</th>\n",
       "      <th>low</th>\n",
       "      <th>close</th>\n",
       "      <th>volume</th>\n",
       "    </tr>\n",
       "  </thead>\n",
       "  <tbody>\n",
       "    <tr>\n",
       "      <th>2021-07-22</th>\n",
       "      <td>116.03</td>\n",
       "      <td>116.35</td>\n",
       "      <td>116.0300</td>\n",
       "      <td>116.29</td>\n",
       "      <td>6269656.0</td>\n",
       "      <td>434.74</td>\n",
       "      <td>435.72</td>\n",
       "      <td>433.69</td>\n",
       "      <td>435.50</td>\n",
       "      <td>41998182</td>\n",
       "    </tr>\n",
       "    <tr>\n",
       "      <th>2021-07-23</th>\n",
       "      <td>116.03</td>\n",
       "      <td>116.22</td>\n",
       "      <td>116.0300</td>\n",
       "      <td>116.21</td>\n",
       "      <td>4137100.0</td>\n",
       "      <td>437.53</td>\n",
       "      <td>440.30</td>\n",
       "      <td>436.79</td>\n",
       "      <td>439.90</td>\n",
       "      <td>53294703</td>\n",
       "    </tr>\n",
       "    <tr>\n",
       "      <th>2021-07-26</th>\n",
       "      <td>116.30</td>\n",
       "      <td>116.33</td>\n",
       "      <td>116.0850</td>\n",
       "      <td>116.11</td>\n",
       "      <td>7028009.0</td>\n",
       "      <td>439.31</td>\n",
       "      <td>441.03</td>\n",
       "      <td>439.26</td>\n",
       "      <td>440.99</td>\n",
       "      <td>40155852</td>\n",
       "    </tr>\n",
       "    <tr>\n",
       "      <th>2021-07-27</th>\n",
       "      <td>116.35</td>\n",
       "      <td>116.40</td>\n",
       "      <td>116.2727</td>\n",
       "      <td>116.39</td>\n",
       "      <td>4669859.0</td>\n",
       "      <td>439.91</td>\n",
       "      <td>439.94</td>\n",
       "      <td>435.99</td>\n",
       "      <td>439.00</td>\n",
       "      <td>61032234</td>\n",
       "    </tr>\n",
       "    <tr>\n",
       "      <th>2021-07-28</th>\n",
       "      <td>116.24</td>\n",
       "      <td>116.49</td>\n",
       "      <td>116.1400</td>\n",
       "      <td>116.48</td>\n",
       "      <td>5189696.0</td>\n",
       "      <td>439.68</td>\n",
       "      <td>440.30</td>\n",
       "      <td>437.31</td>\n",
       "      <td>438.84</td>\n",
       "      <td>47642330</td>\n",
       "    </tr>\n",
       "  </tbody>\n",
       "</table>\n",
       "</div>"
      ],
      "text/plain": [
       "               AGG                                          SPY          \\\n",
       "              open    high       low   close     volume    open    high   \n",
       "2021-07-22  116.03  116.35  116.0300  116.29  6269656.0  434.74  435.72   \n",
       "2021-07-23  116.03  116.22  116.0300  116.21  4137100.0  437.53  440.30   \n",
       "2021-07-26  116.30  116.33  116.0850  116.11  7028009.0  439.31  441.03   \n",
       "2021-07-27  116.35  116.40  116.2727  116.39  4669859.0  439.91  439.94   \n",
       "2021-07-28  116.24  116.49  116.1400  116.48  5189696.0  439.68  440.30   \n",
       "\n",
       "                                      \n",
       "               low   close    volume  \n",
       "2021-07-22  433.69  435.50  41998182  \n",
       "2021-07-23  436.79  439.90  53294703  \n",
       "2021-07-26  439.26  440.99  40155852  \n",
       "2021-07-27  435.99  439.00  61032234  \n",
       "2021-07-28  437.31  438.84  47642330  "
      ]
     },
     "metadata": {},
     "output_type": "display_data"
    }
   ],
   "source": [
    "# Use the Alpaca get_barset function to make the API call to get the 3 years worth of pricing data\n",
    "# The tickers and timeframe parameters should have been set in Part 1 of this activity \n",
    "# The start and end dates should be updated with the information set above\n",
    "# Remember to add the df property to the end of the call so the response is returned as a DataFrame\n",
    "sb_hist_data = alpaca.get_barset(\n",
    "    tickers,\n",
    "    timeframe=timeframe,\n",
    "    start=start_date,\n",
    "    end=end_date,\n",
    "    limit=limit\n",
    "    ).df.dropna()\n",
    "\n",
    "# Set index to the date column and drop the time value\n",
    "sb_hist_data.index = sb_hist_data.index.date\n",
    "# Display both the first and last five rows of the DataFrame\n",
    "display(sb_hist_data.head())\n",
    "display(sb_hist_data.tail())\n"
   ]
  },
  {
   "cell_type": "markdown",
   "metadata": {},
   "source": [
    "#### Step 2: Run a Monte Carlo simulation of 500 samples and 30 years for the 60/40 portfolio, and then plot the results."
   ]
  },
  {
   "cell_type": "code",
   "execution_count": 41,
   "metadata": {},
   "outputs": [
    {
     "data": {
      "text/html": [
       "<div>\n",
       "<style scoped>\n",
       "    .dataframe tbody tr th:only-of-type {\n",
       "        vertical-align: middle;\n",
       "    }\n",
       "\n",
       "    .dataframe tbody tr th {\n",
       "        vertical-align: top;\n",
       "    }\n",
       "\n",
       "    .dataframe thead tr th {\n",
       "        text-align: left;\n",
       "    }\n",
       "</style>\n",
       "<table border=\"1\" class=\"dataframe\">\n",
       "  <thead>\n",
       "    <tr>\n",
       "      <th></th>\n",
       "      <th colspan=\"5\" halign=\"left\">AGG</th>\n",
       "      <th colspan=\"5\" halign=\"left\">SPY</th>\n",
       "    </tr>\n",
       "    <tr>\n",
       "      <th></th>\n",
       "      <th>open</th>\n",
       "      <th>high</th>\n",
       "      <th>low</th>\n",
       "      <th>close</th>\n",
       "      <th>volume</th>\n",
       "      <th>open</th>\n",
       "      <th>high</th>\n",
       "      <th>low</th>\n",
       "      <th>close</th>\n",
       "      <th>volume</th>\n",
       "    </tr>\n",
       "  </thead>\n",
       "  <tbody>\n",
       "    <tr>\n",
       "      <th>2018-07-30</th>\n",
       "      <td>105.94</td>\n",
       "      <td>106.0500</td>\n",
       "      <td>105.910</td>\n",
       "      <td>105.95</td>\n",
       "      <td>2784448</td>\n",
       "      <td>281.49</td>\n",
       "      <td>281.69</td>\n",
       "      <td>279.3600</td>\n",
       "      <td>279.89</td>\n",
       "      <td>46935673</td>\n",
       "    </tr>\n",
       "    <tr>\n",
       "      <th>2018-07-31</th>\n",
       "      <td>106.11</td>\n",
       "      <td>106.1756</td>\n",
       "      <td>106.050</td>\n",
       "      <td>106.06</td>\n",
       "      <td>4704161</td>\n",
       "      <td>280.81</td>\n",
       "      <td>282.02</td>\n",
       "      <td>280.3800</td>\n",
       "      <td>281.22</td>\n",
       "      <td>48645613</td>\n",
       "    </tr>\n",
       "    <tr>\n",
       "      <th>2018-08-01</th>\n",
       "      <td>105.55</td>\n",
       "      <td>105.7600</td>\n",
       "      <td>105.512</td>\n",
       "      <td>105.69</td>\n",
       "      <td>3896190</td>\n",
       "      <td>281.56</td>\n",
       "      <td>282.13</td>\n",
       "      <td>280.1315</td>\n",
       "      <td>280.92</td>\n",
       "      <td>40627557</td>\n",
       "    </tr>\n",
       "    <tr>\n",
       "      <th>2018-08-02</th>\n",
       "      <td>105.76</td>\n",
       "      <td>105.7600</td>\n",
       "      <td>105.650</td>\n",
       "      <td>105.73</td>\n",
       "      <td>2989387</td>\n",
       "      <td>279.38</td>\n",
       "      <td>282.58</td>\n",
       "      <td>279.1600</td>\n",
       "      <td>282.34</td>\n",
       "      <td>42491022</td>\n",
       "    </tr>\n",
       "    <tr>\n",
       "      <th>2018-08-03</th>\n",
       "      <td>105.81</td>\n",
       "      <td>105.9799</td>\n",
       "      <td>105.810</td>\n",
       "      <td>105.93</td>\n",
       "      <td>2286629</td>\n",
       "      <td>282.53</td>\n",
       "      <td>283.65</td>\n",
       "      <td>282.3300</td>\n",
       "      <td>283.64</td>\n",
       "      <td>34485363</td>\n",
       "    </tr>\n",
       "  </tbody>\n",
       "</table>\n",
       "</div>"
      ],
      "text/plain": [
       "               AGG                                         SPY          \\\n",
       "              open      high      low   close   volume    open    high   \n",
       "2018-07-30  105.94  106.0500  105.910  105.95  2784448  281.49  281.69   \n",
       "2018-07-31  106.11  106.1756  106.050  106.06  4704161  280.81  282.02   \n",
       "2018-08-01  105.55  105.7600  105.512  105.69  3896190  281.56  282.13   \n",
       "2018-08-02  105.76  105.7600  105.650  105.73  2989387  279.38  282.58   \n",
       "2018-08-03  105.81  105.9799  105.810  105.93  2286629  282.53  283.65   \n",
       "\n",
       "                                        \n",
       "                 low   close    volume  \n",
       "2018-07-30  279.3600  279.89  46935673  \n",
       "2018-07-31  280.3800  281.22  48645613  \n",
       "2018-08-01  280.1315  280.92  40627557  \n",
       "2018-08-02  279.1600  282.34  42491022  \n",
       "2018-08-03  282.3300  283.64  34485363  "
      ]
     },
     "execution_count": 41,
     "metadata": {},
     "output_type": "execute_result"
    }
   ],
   "source": [
    "# Configure the Monte Carlo simulation to forecast 30 years cumulative returns\n",
    "# The weights should be split 40% to AGG and 60% to SPY.\n",
    "# Run 500 samples.\n",
    "sb_hist_data_mc = MCSimulation(\n",
    "    sb_hist_data,\n",
    "    weights=[.6,.4],\n",
    "    num_simulation=500,\n",
    "    num_trading_days=252*30\n",
    "    )\n",
    "\n",
    "# Review the simulation input data\n",
    "sb_hist_data.head()\n"
   ]
  },
  {
   "cell_type": "code",
   "execution_count": 42,
   "metadata": {},
   "outputs": [
    {
     "name": "stdout",
     "output_type": "stream",
     "text": [
      "Running Monte Carlo simulation number 0.\n",
      "Running Monte Carlo simulation number 10.\n",
      "Running Monte Carlo simulation number 20.\n",
      "Running Monte Carlo simulation number 30.\n",
      "Running Monte Carlo simulation number 40.\n",
      "Running Monte Carlo simulation number 50.\n",
      "Running Monte Carlo simulation number 60.\n",
      "Running Monte Carlo simulation number 70.\n",
      "Running Monte Carlo simulation number 80.\n",
      "Running Monte Carlo simulation number 90.\n",
      "Running Monte Carlo simulation number 100.\n",
      "Running Monte Carlo simulation number 110.\n",
      "Running Monte Carlo simulation number 120.\n",
      "Running Monte Carlo simulation number 130.\n",
      "Running Monte Carlo simulation number 140.\n",
      "Running Monte Carlo simulation number 150.\n",
      "Running Monte Carlo simulation number 160.\n",
      "Running Monte Carlo simulation number 170.\n",
      "Running Monte Carlo simulation number 180.\n",
      "Running Monte Carlo simulation number 190.\n",
      "Running Monte Carlo simulation number 200.\n",
      "Running Monte Carlo simulation number 210.\n",
      "Running Monte Carlo simulation number 220.\n",
      "Running Monte Carlo simulation number 230.\n",
      "Running Monte Carlo simulation number 240.\n",
      "Running Monte Carlo simulation number 250.\n",
      "Running Monte Carlo simulation number 260.\n",
      "Running Monte Carlo simulation number 270.\n",
      "Running Monte Carlo simulation number 280.\n",
      "Running Monte Carlo simulation number 290.\n",
      "Running Monte Carlo simulation number 300.\n",
      "Running Monte Carlo simulation number 310.\n",
      "Running Monte Carlo simulation number 320.\n",
      "Running Monte Carlo simulation number 330.\n",
      "Running Monte Carlo simulation number 340.\n",
      "Running Monte Carlo simulation number 350.\n",
      "Running Monte Carlo simulation number 360.\n",
      "Running Monte Carlo simulation number 370.\n",
      "Running Monte Carlo simulation number 380.\n",
      "Running Monte Carlo simulation number 390.\n",
      "Running Monte Carlo simulation number 400.\n",
      "Running Monte Carlo simulation number 410.\n",
      "Running Monte Carlo simulation number 420.\n",
      "Running Monte Carlo simulation number 430.\n",
      "Running Monte Carlo simulation number 440.\n",
      "Running Monte Carlo simulation number 450.\n",
      "Running Monte Carlo simulation number 460.\n",
      "Running Monte Carlo simulation number 470.\n",
      "Running Monte Carlo simulation number 480.\n",
      "Running Monte Carlo simulation number 490.\n"
     ]
    },
    {
     "data": {
      "text/html": [
       "<div>\n",
       "<style scoped>\n",
       "    .dataframe tbody tr th:only-of-type {\n",
       "        vertical-align: middle;\n",
       "    }\n",
       "\n",
       "    .dataframe tbody tr th {\n",
       "        vertical-align: top;\n",
       "    }\n",
       "\n",
       "    .dataframe thead th {\n",
       "        text-align: right;\n",
       "    }\n",
       "</style>\n",
       "<table border=\"1\" class=\"dataframe\">\n",
       "  <thead>\n",
       "    <tr style=\"text-align: right;\">\n",
       "      <th></th>\n",
       "      <th>0</th>\n",
       "      <th>1</th>\n",
       "      <th>2</th>\n",
       "      <th>3</th>\n",
       "      <th>4</th>\n",
       "      <th>5</th>\n",
       "      <th>6</th>\n",
       "      <th>7</th>\n",
       "      <th>8</th>\n",
       "      <th>9</th>\n",
       "      <th>...</th>\n",
       "      <th>490</th>\n",
       "      <th>491</th>\n",
       "      <th>492</th>\n",
       "      <th>493</th>\n",
       "      <th>494</th>\n",
       "      <th>495</th>\n",
       "      <th>496</th>\n",
       "      <th>497</th>\n",
       "      <th>498</th>\n",
       "      <th>499</th>\n",
       "    </tr>\n",
       "  </thead>\n",
       "  <tbody>\n",
       "    <tr>\n",
       "      <th>0</th>\n",
       "      <td>1.000000</td>\n",
       "      <td>1.000000</td>\n",
       "      <td>1.000000</td>\n",
       "      <td>1.000000</td>\n",
       "      <td>1.000000</td>\n",
       "      <td>1.000000</td>\n",
       "      <td>1.000000</td>\n",
       "      <td>1.000000</td>\n",
       "      <td>1.000000</td>\n",
       "      <td>1.000000</td>\n",
       "      <td>...</td>\n",
       "      <td>1.000000</td>\n",
       "      <td>1.000000</td>\n",
       "      <td>1.000000</td>\n",
       "      <td>1.000000</td>\n",
       "      <td>1.000000</td>\n",
       "      <td>1.000000</td>\n",
       "      <td>1.000000</td>\n",
       "      <td>1.000000</td>\n",
       "      <td>1.000000</td>\n",
       "      <td>1.000000</td>\n",
       "    </tr>\n",
       "    <tr>\n",
       "      <th>1</th>\n",
       "      <td>0.997285</td>\n",
       "      <td>0.997324</td>\n",
       "      <td>0.997283</td>\n",
       "      <td>0.996623</td>\n",
       "      <td>0.997023</td>\n",
       "      <td>1.002375</td>\n",
       "      <td>1.007414</td>\n",
       "      <td>0.999839</td>\n",
       "      <td>0.990108</td>\n",
       "      <td>0.997983</td>\n",
       "      <td>...</td>\n",
       "      <td>0.999214</td>\n",
       "      <td>0.996134</td>\n",
       "      <td>0.989101</td>\n",
       "      <td>0.997347</td>\n",
       "      <td>1.002064</td>\n",
       "      <td>1.000730</td>\n",
       "      <td>0.992151</td>\n",
       "      <td>0.998196</td>\n",
       "      <td>1.005807</td>\n",
       "      <td>0.993570</td>\n",
       "    </tr>\n",
       "    <tr>\n",
       "      <th>2</th>\n",
       "      <td>1.007375</td>\n",
       "      <td>0.996690</td>\n",
       "      <td>1.002806</td>\n",
       "      <td>0.991733</td>\n",
       "      <td>1.002459</td>\n",
       "      <td>0.993939</td>\n",
       "      <td>1.012932</td>\n",
       "      <td>0.989720</td>\n",
       "      <td>0.990146</td>\n",
       "      <td>0.980481</td>\n",
       "      <td>...</td>\n",
       "      <td>0.997004</td>\n",
       "      <td>0.988375</td>\n",
       "      <td>0.998944</td>\n",
       "      <td>0.997680</td>\n",
       "      <td>1.002831</td>\n",
       "      <td>0.996312</td>\n",
       "      <td>0.998427</td>\n",
       "      <td>1.000740</td>\n",
       "      <td>1.007398</td>\n",
       "      <td>0.991104</td>\n",
       "    </tr>\n",
       "    <tr>\n",
       "      <th>3</th>\n",
       "      <td>1.005959</td>\n",
       "      <td>0.994460</td>\n",
       "      <td>0.994365</td>\n",
       "      <td>0.997082</td>\n",
       "      <td>1.009737</td>\n",
       "      <td>0.989937</td>\n",
       "      <td>1.007265</td>\n",
       "      <td>0.983194</td>\n",
       "      <td>0.985553</td>\n",
       "      <td>0.983982</td>\n",
       "      <td>...</td>\n",
       "      <td>0.996461</td>\n",
       "      <td>0.999558</td>\n",
       "      <td>1.002238</td>\n",
       "      <td>0.996792</td>\n",
       "      <td>1.007862</td>\n",
       "      <td>1.004610</td>\n",
       "      <td>1.009471</td>\n",
       "      <td>0.996453</td>\n",
       "      <td>1.013256</td>\n",
       "      <td>0.999183</td>\n",
       "    </tr>\n",
       "    <tr>\n",
       "      <th>4</th>\n",
       "      <td>1.007338</td>\n",
       "      <td>1.001319</td>\n",
       "      <td>0.998311</td>\n",
       "      <td>0.997997</td>\n",
       "      <td>1.013206</td>\n",
       "      <td>0.996953</td>\n",
       "      <td>0.997542</td>\n",
       "      <td>0.976413</td>\n",
       "      <td>0.996193</td>\n",
       "      <td>0.983009</td>\n",
       "      <td>...</td>\n",
       "      <td>0.994160</td>\n",
       "      <td>0.995073</td>\n",
       "      <td>0.999673</td>\n",
       "      <td>0.992506</td>\n",
       "      <td>1.000249</td>\n",
       "      <td>1.015226</td>\n",
       "      <td>1.013741</td>\n",
       "      <td>0.997473</td>\n",
       "      <td>1.004915</td>\n",
       "      <td>1.000774</td>\n",
       "    </tr>\n",
       "    <tr>\n",
       "      <th>...</th>\n",
       "      <td>...</td>\n",
       "      <td>...</td>\n",
       "      <td>...</td>\n",
       "      <td>...</td>\n",
       "      <td>...</td>\n",
       "      <td>...</td>\n",
       "      <td>...</td>\n",
       "      <td>...</td>\n",
       "      <td>...</td>\n",
       "      <td>...</td>\n",
       "      <td>...</td>\n",
       "      <td>...</td>\n",
       "      <td>...</td>\n",
       "      <td>...</td>\n",
       "      <td>...</td>\n",
       "      <td>...</td>\n",
       "      <td>...</td>\n",
       "      <td>...</td>\n",
       "      <td>...</td>\n",
       "      <td>...</td>\n",
       "      <td>...</td>\n",
       "    </tr>\n",
       "    <tr>\n",
       "      <th>7556</th>\n",
       "      <td>39.227597</td>\n",
       "      <td>10.416940</td>\n",
       "      <td>20.719631</td>\n",
       "      <td>11.242494</td>\n",
       "      <td>13.466477</td>\n",
       "      <td>31.305133</td>\n",
       "      <td>9.082759</td>\n",
       "      <td>12.231191</td>\n",
       "      <td>16.075112</td>\n",
       "      <td>8.363654</td>\n",
       "      <td>...</td>\n",
       "      <td>25.761344</td>\n",
       "      <td>12.159005</td>\n",
       "      <td>6.211243</td>\n",
       "      <td>6.605052</td>\n",
       "      <td>21.853815</td>\n",
       "      <td>24.671286</td>\n",
       "      <td>11.036175</td>\n",
       "      <td>22.262476</td>\n",
       "      <td>8.049628</td>\n",
       "      <td>5.908204</td>\n",
       "    </tr>\n",
       "    <tr>\n",
       "      <th>7557</th>\n",
       "      <td>39.193001</td>\n",
       "      <td>10.360785</td>\n",
       "      <td>20.834862</td>\n",
       "      <td>11.308618</td>\n",
       "      <td>13.478685</td>\n",
       "      <td>31.395925</td>\n",
       "      <td>9.005414</td>\n",
       "      <td>12.086006</td>\n",
       "      <td>16.234040</td>\n",
       "      <td>8.354938</td>\n",
       "      <td>...</td>\n",
       "      <td>25.495450</td>\n",
       "      <td>12.177374</td>\n",
       "      <td>6.133995</td>\n",
       "      <td>6.556229</td>\n",
       "      <td>21.759324</td>\n",
       "      <td>24.566061</td>\n",
       "      <td>11.081312</td>\n",
       "      <td>22.047939</td>\n",
       "      <td>8.008040</td>\n",
       "      <td>5.921690</td>\n",
       "    </tr>\n",
       "    <tr>\n",
       "      <th>7558</th>\n",
       "      <td>39.340749</td>\n",
       "      <td>10.381655</td>\n",
       "      <td>20.855434</td>\n",
       "      <td>11.430478</td>\n",
       "      <td>13.576981</td>\n",
       "      <td>31.258302</td>\n",
       "      <td>8.947583</td>\n",
       "      <td>12.274123</td>\n",
       "      <td>16.370557</td>\n",
       "      <td>8.300195</td>\n",
       "      <td>...</td>\n",
       "      <td>25.356509</td>\n",
       "      <td>12.178447</td>\n",
       "      <td>6.130144</td>\n",
       "      <td>6.543133</td>\n",
       "      <td>21.710215</td>\n",
       "      <td>24.536233</td>\n",
       "      <td>11.097735</td>\n",
       "      <td>21.806287</td>\n",
       "      <td>8.035454</td>\n",
       "      <td>5.950453</td>\n",
       "    </tr>\n",
       "    <tr>\n",
       "      <th>7559</th>\n",
       "      <td>39.227095</td>\n",
       "      <td>10.341247</td>\n",
       "      <td>20.767029</td>\n",
       "      <td>11.394585</td>\n",
       "      <td>13.545388</td>\n",
       "      <td>31.298935</td>\n",
       "      <td>8.971407</td>\n",
       "      <td>12.230384</td>\n",
       "      <td>16.417588</td>\n",
       "      <td>8.228808</td>\n",
       "      <td>...</td>\n",
       "      <td>25.579954</td>\n",
       "      <td>12.136084</td>\n",
       "      <td>6.198994</td>\n",
       "      <td>6.513333</td>\n",
       "      <td>21.561306</td>\n",
       "      <td>24.706540</td>\n",
       "      <td>11.151832</td>\n",
       "      <td>21.831797</td>\n",
       "      <td>8.095983</td>\n",
       "      <td>5.960619</td>\n",
       "    </tr>\n",
       "    <tr>\n",
       "      <th>7560</th>\n",
       "      <td>39.422518</td>\n",
       "      <td>10.381457</td>\n",
       "      <td>20.756139</td>\n",
       "      <td>11.458329</td>\n",
       "      <td>13.656792</td>\n",
       "      <td>31.151229</td>\n",
       "      <td>8.921884</td>\n",
       "      <td>12.284101</td>\n",
       "      <td>16.472964</td>\n",
       "      <td>8.264843</td>\n",
       "      <td>...</td>\n",
       "      <td>25.487541</td>\n",
       "      <td>12.139955</td>\n",
       "      <td>6.190443</td>\n",
       "      <td>6.476225</td>\n",
       "      <td>21.525262</td>\n",
       "      <td>24.667250</td>\n",
       "      <td>11.104422</td>\n",
       "      <td>21.817639</td>\n",
       "      <td>8.022726</td>\n",
       "      <td>5.963903</td>\n",
       "    </tr>\n",
       "  </tbody>\n",
       "</table>\n",
       "<p>7561 rows × 500 columns</p>\n",
       "</div>"
      ],
      "text/plain": [
       "            0          1          2          3          4          5    \\\n",
       "0      1.000000   1.000000   1.000000   1.000000   1.000000   1.000000   \n",
       "1      0.997285   0.997324   0.997283   0.996623   0.997023   1.002375   \n",
       "2      1.007375   0.996690   1.002806   0.991733   1.002459   0.993939   \n",
       "3      1.005959   0.994460   0.994365   0.997082   1.009737   0.989937   \n",
       "4      1.007338   1.001319   0.998311   0.997997   1.013206   0.996953   \n",
       "...         ...        ...        ...        ...        ...        ...   \n",
       "7556  39.227597  10.416940  20.719631  11.242494  13.466477  31.305133   \n",
       "7557  39.193001  10.360785  20.834862  11.308618  13.478685  31.395925   \n",
       "7558  39.340749  10.381655  20.855434  11.430478  13.576981  31.258302   \n",
       "7559  39.227095  10.341247  20.767029  11.394585  13.545388  31.298935   \n",
       "7560  39.422518  10.381457  20.756139  11.458329  13.656792  31.151229   \n",
       "\n",
       "           6          7          8         9    ...        490        491  \\\n",
       "0     1.000000   1.000000   1.000000  1.000000  ...   1.000000   1.000000   \n",
       "1     1.007414   0.999839   0.990108  0.997983  ...   0.999214   0.996134   \n",
       "2     1.012932   0.989720   0.990146  0.980481  ...   0.997004   0.988375   \n",
       "3     1.007265   0.983194   0.985553  0.983982  ...   0.996461   0.999558   \n",
       "4     0.997542   0.976413   0.996193  0.983009  ...   0.994160   0.995073   \n",
       "...        ...        ...        ...       ...  ...        ...        ...   \n",
       "7556  9.082759  12.231191  16.075112  8.363654  ...  25.761344  12.159005   \n",
       "7557  9.005414  12.086006  16.234040  8.354938  ...  25.495450  12.177374   \n",
       "7558  8.947583  12.274123  16.370557  8.300195  ...  25.356509  12.178447   \n",
       "7559  8.971407  12.230384  16.417588  8.228808  ...  25.579954  12.136084   \n",
       "7560  8.921884  12.284101  16.472964  8.264843  ...  25.487541  12.139955   \n",
       "\n",
       "           492       493        494        495        496        497  \\\n",
       "0     1.000000  1.000000   1.000000   1.000000   1.000000   1.000000   \n",
       "1     0.989101  0.997347   1.002064   1.000730   0.992151   0.998196   \n",
       "2     0.998944  0.997680   1.002831   0.996312   0.998427   1.000740   \n",
       "3     1.002238  0.996792   1.007862   1.004610   1.009471   0.996453   \n",
       "4     0.999673  0.992506   1.000249   1.015226   1.013741   0.997473   \n",
       "...        ...       ...        ...        ...        ...        ...   \n",
       "7556  6.211243  6.605052  21.853815  24.671286  11.036175  22.262476   \n",
       "7557  6.133995  6.556229  21.759324  24.566061  11.081312  22.047939   \n",
       "7558  6.130144  6.543133  21.710215  24.536233  11.097735  21.806287   \n",
       "7559  6.198994  6.513333  21.561306  24.706540  11.151832  21.831797   \n",
       "7560  6.190443  6.476225  21.525262  24.667250  11.104422  21.817639   \n",
       "\n",
       "           498       499  \n",
       "0     1.000000  1.000000  \n",
       "1     1.005807  0.993570  \n",
       "2     1.007398  0.991104  \n",
       "3     1.013256  0.999183  \n",
       "4     1.004915  1.000774  \n",
       "...        ...       ...  \n",
       "7556  8.049628  5.908204  \n",
       "7557  8.008040  5.921690  \n",
       "7558  8.035454  5.950453  \n",
       "7559  8.095983  5.960619  \n",
       "7560  8.022726  5.963903  \n",
       "\n",
       "[7561 rows x 500 columns]"
      ]
     },
     "execution_count": 42,
     "metadata": {},
     "output_type": "execute_result"
    }
   ],
   "source": [
    "# Run the Monte Carlo simulation to forecast 30 years cumulative returns\n",
    "sb_hist_data_mc.calc_cumulative_return()\n"
   ]
  },
  {
   "cell_type": "code",
   "execution_count": 45,
   "metadata": {},
   "outputs": [
    {
     "data": {
      "text/plain": [
       "<AxesSubplot:title={'center':'500 Simulations of Cumulative Portfolio Return Trajectories Over the Next 7560 Trading Days.'}>"
      ]
     },
     "execution_count": 45,
     "metadata": {},
     "output_type": "execute_result"
    },
    {
     "data": {
      "image/png": "[encoded data removed]",
      "text/plain": [
       "<Figure size 432x288 with 1 Axes>"
      ]
     },
     "metadata": {
      "needs_background": "light"
     },
     "output_type": "display_data"
    }
   ],
   "source": [
    "# Visualize the 30-year Monte Carlo simulation by creating an\n",
    "# overlay line plot\n",
    "sb_hist_data_mc.plot_simulation()\n"
   ]
  },
  {
   "cell_type": "markdown",
   "metadata": {},
   "source": [
    "#### Step 3: Plot the probability distribution of the Monte Carlo simulation."
   ]
  },
  {
   "cell_type": "code",
   "execution_count": 46,
   "metadata": {},
   "outputs": [
    {
     "data": {
      "text/plain": [
       "<AxesSubplot:title={'center':'Distribution of Final Cumuluative Returns Across All 500 Simulations'}, ylabel='Frequency'>"
      ]
     },
     "execution_count": 46,
     "metadata": {},
     "output_type": "execute_result"
    },
    {
     "data": {
      "image/png": "[encoded data removed]",
      "text/plain": [
       "<Figure size 432x288 with 1 Axes>"
      ]
     },
     "metadata": {
      "needs_background": "light"
     },
     "output_type": "display_data"
    }
   ],
   "source": [
    "# Visualize the probability distribution of the 30-year Monte Carlo simulation \n",
    "# by plotting a histogram\n",
    "sb_hist_data_mc.plot_distribution()\n"
   ]
  },
  {
   "cell_type": "markdown",
   "metadata": {},
   "source": [
    "#### Step 4: Generate the summary statistics for the Monte Carlo simulation."
   ]
  },
  {
   "cell_type": "code",
   "execution_count": 47,
   "metadata": {},
   "outputs": [
    {
     "data": {
      "text/plain": [
       "count           500.000000\n",
       "mean             15.350870\n",
       "std               8.512659\n",
       "min               2.856278\n",
       "25%               9.383177\n",
       "50%              13.513667\n",
       "75%              19.289165\n",
       "max              59.574485\n",
       "95% CI Lower      4.610519\n",
       "95% CI Upper     36.355984\n",
       "Name: 7560, dtype: float64"
      ]
     },
     "execution_count": 47,
     "metadata": {},
     "output_type": "execute_result"
    }
   ],
   "source": [
    "# Generate summary statistics from the 30-year Monte Carlo simulation results\n",
    "# Save the results as a variable\n",
    "summary_stats = sb_hist_data_mc.summarize_cumulative_return()\n",
    "\n",
    "\n",
    "# Review the 30-year Monte Carlo summary statistics\n",
    "summary_stats"
   ]
  },
  {
   "cell_type": "markdown",
   "metadata": {},
   "source": [
    "### Analyze the Retirement Portfolio Forecasts\n",
    "\n",
    "Using the current value of only the stock and bond portion of the member's portfolio and the summary statistics that you generated from the Monte Carlo simulation, answer the following question in your Jupyter notebook:\n",
    "\n",
    "-  What are the lower and upper bounds for the expected value of the portfolio with a 95% confidence interval?\n"
   ]
  },
  {
   "cell_type": "code",
   "execution_count": 75,
   "metadata": {},
   "outputs": [
    {
     "data": {
      "text/plain": [
       "71568.0"
      ]
     },
     "execution_count": 75,
     "metadata": {},
     "output_type": "execute_result"
    }
   ],
   "source": [
    "# Print the current balance of the stock and bond portion of the members portfolio\n",
    "current_value_sb = savings_df['Amount'][-1]\n",
    "current_value_sb"
   ]
  },
  {
   "cell_type": "code",
   "execution_count": 79,
   "metadata": {},
   "outputs": [
    {
     "name": "stdout",
     "output_type": "stream",
     "text": [
      "The lower bound is $ 329965.66 with a 95% confidence interval.\n",
      "The upper bound is $ 2601925.05 with a 95% confidence interval.\n"
     ]
    }
   ],
   "source": [
    "# Use the lower and upper `95%` confidence intervals to calculate the range of the possible outcomes for the current stock/bond portfolio\n",
    "ci_lower_thirty_cumulative_return = current_value_sb * summary_stats.loc['95% CI Lower']\n",
    "ci_upper_thirty_cumulative_return = current_value_sb * summary_stats.loc['95% CI Upper']\n",
    "\n",
    "# Print the result of your calculations\n",
    "print(f\"The lower bound is ${ci_lower_thirty_cumulative_return: .2f} with a 95% confidence interval.\")\n",
    "print(f\"The upper bound is ${ci_upper_thirty_cumulative_return: .2f} with a 95% confidence interval.\")\n"
   ]
  },
  {
   "cell_type": "markdown",
   "metadata": {},
   "source": [
    "### Forecast Cumulative Returns in 10 Years\n",
    "\n",
    "The CTO of the credit union is impressed with your work on these planning tools but wonders if 30 years is a long time to wait until retirement. So, your next task is to adjust the retirement portfolio and run a new Monte Carlo simulation to find out if the changes will allow members to retire earlier.\n",
    "\n",
    "For this new Monte Carlo simulation, do the following: \n",
    "\n",
    "- Forecast the cumulative returns for 10 years from now. Because of the shortened investment horizon (30 years to 10 years), the portfolio needs to invest more heavily in the riskier asset&mdash;that is, stock&mdash;to help accumulate wealth for retirement. \n",
    "\n",
    "- Adjust the weights of the retirement portfolio so that the composition for the Monte Carlo simulation consists of 20% bonds and 80% stocks. \n",
    "\n",
    "- Run the simulation over 500 samples, and use the same data that the API call to Alpaca generated.\n",
    "\n",
    "- Based on the new Monte Carlo simulation, answer the following questions in your Jupyter notebook:\n",
    "\n",
    "    - Using the current value of only the stock and bond portion of the member's portfolio and the summary statistics that you generated from the new Monte Carlo simulation, what are the lower and upper bounds for the expected value of the portfolio (with the new weights) with a 95% confidence interval?\n",
    "\n",
    "    - Will weighting the portfolio more heavily toward stocks allow the credit union members to retire after only 10 years?\n"
   ]
  },
  {
   "cell_type": "code",
   "execution_count": 58,
   "metadata": {},
   "outputs": [
    {
     "data": {
      "text/html": [
       "<div>\n",
       "<style scoped>\n",
       "    .dataframe tbody tr th:only-of-type {\n",
       "        vertical-align: middle;\n",
       "    }\n",
       "\n",
       "    .dataframe tbody tr th {\n",
       "        vertical-align: top;\n",
       "    }\n",
       "\n",
       "    .dataframe thead tr th {\n",
       "        text-align: left;\n",
       "    }\n",
       "</style>\n",
       "<table border=\"1\" class=\"dataframe\">\n",
       "  <thead>\n",
       "    <tr>\n",
       "      <th></th>\n",
       "      <th colspan=\"5\" halign=\"left\">AGG</th>\n",
       "      <th colspan=\"5\" halign=\"left\">SPY</th>\n",
       "    </tr>\n",
       "    <tr>\n",
       "      <th></th>\n",
       "      <th>open</th>\n",
       "      <th>high</th>\n",
       "      <th>low</th>\n",
       "      <th>close</th>\n",
       "      <th>volume</th>\n",
       "      <th>open</th>\n",
       "      <th>high</th>\n",
       "      <th>low</th>\n",
       "      <th>close</th>\n",
       "      <th>volume</th>\n",
       "    </tr>\n",
       "  </thead>\n",
       "  <tbody>\n",
       "    <tr>\n",
       "      <th>2018-07-30</th>\n",
       "      <td>105.94</td>\n",
       "      <td>106.0500</td>\n",
       "      <td>105.9100</td>\n",
       "      <td>105.95</td>\n",
       "      <td>2784448</td>\n",
       "      <td>281.49</td>\n",
       "      <td>281.69</td>\n",
       "      <td>279.3600</td>\n",
       "      <td>279.89</td>\n",
       "      <td>46935673</td>\n",
       "    </tr>\n",
       "    <tr>\n",
       "      <th>2018-07-31</th>\n",
       "      <td>106.11</td>\n",
       "      <td>106.1756</td>\n",
       "      <td>106.0500</td>\n",
       "      <td>106.06</td>\n",
       "      <td>4704161</td>\n",
       "      <td>280.81</td>\n",
       "      <td>282.02</td>\n",
       "      <td>280.3800</td>\n",
       "      <td>281.22</td>\n",
       "      <td>48645613</td>\n",
       "    </tr>\n",
       "    <tr>\n",
       "      <th>2018-08-01</th>\n",
       "      <td>105.55</td>\n",
       "      <td>105.7600</td>\n",
       "      <td>105.5120</td>\n",
       "      <td>105.69</td>\n",
       "      <td>3896190</td>\n",
       "      <td>281.56</td>\n",
       "      <td>282.13</td>\n",
       "      <td>280.1315</td>\n",
       "      <td>280.92</td>\n",
       "      <td>40627557</td>\n",
       "    </tr>\n",
       "    <tr>\n",
       "      <th>2018-08-02</th>\n",
       "      <td>105.76</td>\n",
       "      <td>105.7600</td>\n",
       "      <td>105.6500</td>\n",
       "      <td>105.73</td>\n",
       "      <td>2989387</td>\n",
       "      <td>279.38</td>\n",
       "      <td>282.58</td>\n",
       "      <td>279.1600</td>\n",
       "      <td>282.34</td>\n",
       "      <td>42491022</td>\n",
       "    </tr>\n",
       "    <tr>\n",
       "      <th>2018-08-03</th>\n",
       "      <td>105.81</td>\n",
       "      <td>105.9799</td>\n",
       "      <td>105.8100</td>\n",
       "      <td>105.93</td>\n",
       "      <td>2286629</td>\n",
       "      <td>282.53</td>\n",
       "      <td>283.65</td>\n",
       "      <td>282.3300</td>\n",
       "      <td>283.64</td>\n",
       "      <td>34485363</td>\n",
       "    </tr>\n",
       "    <tr>\n",
       "      <th>...</th>\n",
       "      <td>...</td>\n",
       "      <td>...</td>\n",
       "      <td>...</td>\n",
       "      <td>...</td>\n",
       "      <td>...</td>\n",
       "      <td>...</td>\n",
       "      <td>...</td>\n",
       "      <td>...</td>\n",
       "      <td>...</td>\n",
       "      <td>...</td>\n",
       "    </tr>\n",
       "    <tr>\n",
       "      <th>2021-07-22</th>\n",
       "      <td>116.03</td>\n",
       "      <td>116.3500</td>\n",
       "      <td>116.0300</td>\n",
       "      <td>116.29</td>\n",
       "      <td>6269656</td>\n",
       "      <td>434.74</td>\n",
       "      <td>435.72</td>\n",
       "      <td>433.6900</td>\n",
       "      <td>435.50</td>\n",
       "      <td>41998182</td>\n",
       "    </tr>\n",
       "    <tr>\n",
       "      <th>2021-07-23</th>\n",
       "      <td>116.03</td>\n",
       "      <td>116.2200</td>\n",
       "      <td>116.0300</td>\n",
       "      <td>116.21</td>\n",
       "      <td>4137100</td>\n",
       "      <td>437.53</td>\n",
       "      <td>440.30</td>\n",
       "      <td>436.7900</td>\n",
       "      <td>439.90</td>\n",
       "      <td>53294703</td>\n",
       "    </tr>\n",
       "    <tr>\n",
       "      <th>2021-07-26</th>\n",
       "      <td>116.30</td>\n",
       "      <td>116.3300</td>\n",
       "      <td>116.0850</td>\n",
       "      <td>116.11</td>\n",
       "      <td>7028009</td>\n",
       "      <td>439.31</td>\n",
       "      <td>441.03</td>\n",
       "      <td>439.2600</td>\n",
       "      <td>440.99</td>\n",
       "      <td>40155852</td>\n",
       "    </tr>\n",
       "    <tr>\n",
       "      <th>2021-07-27</th>\n",
       "      <td>116.35</td>\n",
       "      <td>116.4000</td>\n",
       "      <td>116.2727</td>\n",
       "      <td>116.39</td>\n",
       "      <td>4669859</td>\n",
       "      <td>439.91</td>\n",
       "      <td>439.94</td>\n",
       "      <td>435.9900</td>\n",
       "      <td>439.00</td>\n",
       "      <td>61032234</td>\n",
       "    </tr>\n",
       "    <tr>\n",
       "      <th>2021-07-28</th>\n",
       "      <td>116.24</td>\n",
       "      <td>116.4900</td>\n",
       "      <td>116.1400</td>\n",
       "      <td>116.48</td>\n",
       "      <td>5189696</td>\n",
       "      <td>439.68</td>\n",
       "      <td>440.30</td>\n",
       "      <td>437.3100</td>\n",
       "      <td>438.84</td>\n",
       "      <td>47642330</td>\n",
       "    </tr>\n",
       "  </tbody>\n",
       "</table>\n",
       "<p>755 rows × 10 columns</p>\n",
       "</div>"
      ],
      "text/plain": [
       "               AGG                                          SPY          \\\n",
       "              open      high       low   close   volume    open    high   \n",
       "2018-07-30  105.94  106.0500  105.9100  105.95  2784448  281.49  281.69   \n",
       "2018-07-31  106.11  106.1756  106.0500  106.06  4704161  280.81  282.02   \n",
       "2018-08-01  105.55  105.7600  105.5120  105.69  3896190  281.56  282.13   \n",
       "2018-08-02  105.76  105.7600  105.6500  105.73  2989387  279.38  282.58   \n",
       "2018-08-03  105.81  105.9799  105.8100  105.93  2286629  282.53  283.65   \n",
       "...            ...       ...       ...     ...      ...     ...     ...   \n",
       "2021-07-22  116.03  116.3500  116.0300  116.29  6269656  434.74  435.72   \n",
       "2021-07-23  116.03  116.2200  116.0300  116.21  4137100  437.53  440.30   \n",
       "2021-07-26  116.30  116.3300  116.0850  116.11  7028009  439.31  441.03   \n",
       "2021-07-27  116.35  116.4000  116.2727  116.39  4669859  439.91  439.94   \n",
       "2021-07-28  116.24  116.4900  116.1400  116.48  5189696  439.68  440.30   \n",
       "\n",
       "                                        \n",
       "                 low   close    volume  \n",
       "2018-07-30  279.3600  279.89  46935673  \n",
       "2018-07-31  280.3800  281.22  48645613  \n",
       "2018-08-01  280.1315  280.92  40627557  \n",
       "2018-08-02  279.1600  282.34  42491022  \n",
       "2018-08-03  282.3300  283.64  34485363  \n",
       "...              ...     ...       ...  \n",
       "2021-07-22  433.6900  435.50  41998182  \n",
       "2021-07-23  436.7900  439.90  53294703  \n",
       "2021-07-26  439.2600  440.99  40155852  \n",
       "2021-07-27  435.9900  439.00  61032234  \n",
       "2021-07-28  437.3100  438.84  47642330  \n",
       "\n",
       "[755 rows x 10 columns]"
      ]
     },
     "execution_count": 58,
     "metadata": {},
     "output_type": "execute_result"
    }
   ],
   "source": [
    "# Configure a Monte Carlo simulation to forecast 10 years cumulative returns\n",
    "# The weights should be split 20% to AGG and 80% to SPY.\n",
    "# Run 500 samples.\n",
    "sb_hist_mc_sw = MCSimulation(\n",
    "    sb_hist_data,\n",
    "    weights=[.8,.2],\n",
    "    num_simulation=500,\n",
    "    num_trading_days=252*10\n",
    "    )\n",
    "\n",
    "# Review the simulation input data\n",
    "sb_hist_data\n"
   ]
  },
  {
   "cell_type": "code",
   "execution_count": 59,
   "metadata": {},
   "outputs": [
    {
     "name": "stdout",
     "output_type": "stream",
     "text": [
      "Running Monte Carlo simulation number 0.\n",
      "Running Monte Carlo simulation number 10.\n",
      "Running Monte Carlo simulation number 20.\n",
      "Running Monte Carlo simulation number 30.\n",
      "Running Monte Carlo simulation number 40.\n",
      "Running Monte Carlo simulation number 50.\n",
      "Running Monte Carlo simulation number 60.\n",
      "Running Monte Carlo simulation number 70.\n",
      "Running Monte Carlo simulation number 80.\n",
      "Running Monte Carlo simulation number 90.\n",
      "Running Monte Carlo simulation number 100.\n",
      "Running Monte Carlo simulation number 110.\n",
      "Running Monte Carlo simulation number 120.\n",
      "Running Monte Carlo simulation number 130.\n",
      "Running Monte Carlo simulation number 140.\n",
      "Running Monte Carlo simulation number 150.\n",
      "Running Monte Carlo simulation number 160.\n",
      "Running Monte Carlo simulation number 170.\n",
      "Running Monte Carlo simulation number 180.\n",
      "Running Monte Carlo simulation number 190.\n",
      "Running Monte Carlo simulation number 200.\n",
      "Running Monte Carlo simulation number 210.\n",
      "Running Monte Carlo simulation number 220.\n",
      "Running Monte Carlo simulation number 230.\n",
      "Running Monte Carlo simulation number 240.\n",
      "Running Monte Carlo simulation number 250.\n",
      "Running Monte Carlo simulation number 260.\n",
      "Running Monte Carlo simulation number 270.\n",
      "Running Monte Carlo simulation number 280.\n",
      "Running Monte Carlo simulation number 290.\n",
      "Running Monte Carlo simulation number 300.\n",
      "Running Monte Carlo simulation number 310.\n",
      "Running Monte Carlo simulation number 320.\n",
      "Running Monte Carlo simulation number 330.\n",
      "Running Monte Carlo simulation number 340.\n",
      "Running Monte Carlo simulation number 350.\n",
      "Running Monte Carlo simulation number 360.\n",
      "Running Monte Carlo simulation number 370.\n",
      "Running Monte Carlo simulation number 380.\n",
      "Running Monte Carlo simulation number 390.\n",
      "Running Monte Carlo simulation number 400.\n",
      "Running Monte Carlo simulation number 410.\n",
      "Running Monte Carlo simulation number 420.\n",
      "Running Monte Carlo simulation number 430.\n",
      "Running Monte Carlo simulation number 440.\n",
      "Running Monte Carlo simulation number 450.\n",
      "Running Monte Carlo simulation number 460.\n",
      "Running Monte Carlo simulation number 470.\n",
      "Running Monte Carlo simulation number 480.\n",
      "Running Monte Carlo simulation number 490.\n"
     ]
    },
    {
     "data": {
      "text/html": [
       "<div>\n",
       "<style scoped>\n",
       "    .dataframe tbody tr th:only-of-type {\n",
       "        vertical-align: middle;\n",
       "    }\n",
       "\n",
       "    .dataframe tbody tr th {\n",
       "        vertical-align: top;\n",
       "    }\n",
       "\n",
       "    .dataframe thead th {\n",
       "        text-align: right;\n",
       "    }\n",
       "</style>\n",
       "<table border=\"1\" class=\"dataframe\">\n",
       "  <thead>\n",
       "    <tr style=\"text-align: right;\">\n",
       "      <th></th>\n",
       "      <th>0</th>\n",
       "      <th>1</th>\n",
       "      <th>2</th>\n",
       "      <th>3</th>\n",
       "      <th>4</th>\n",
       "      <th>5</th>\n",
       "      <th>6</th>\n",
       "      <th>7</th>\n",
       "      <th>8</th>\n",
       "      <th>9</th>\n",
       "      <th>...</th>\n",
       "      <th>490</th>\n",
       "      <th>491</th>\n",
       "      <th>492</th>\n",
       "      <th>493</th>\n",
       "      <th>494</th>\n",
       "      <th>495</th>\n",
       "      <th>496</th>\n",
       "      <th>497</th>\n",
       "      <th>498</th>\n",
       "      <th>499</th>\n",
       "    </tr>\n",
       "  </thead>\n",
       "  <tbody>\n",
       "    <tr>\n",
       "      <th>0</th>\n",
       "      <td>1.000000</td>\n",
       "      <td>1.000000</td>\n",
       "      <td>1.000000</td>\n",
       "      <td>1.000000</td>\n",
       "      <td>1.000000</td>\n",
       "      <td>1.000000</td>\n",
       "      <td>1.000000</td>\n",
       "      <td>1.000000</td>\n",
       "      <td>1.000000</td>\n",
       "      <td>1.000000</td>\n",
       "      <td>...</td>\n",
       "      <td>1.000000</td>\n",
       "      <td>1.000000</td>\n",
       "      <td>1.000000</td>\n",
       "      <td>1.000000</td>\n",
       "      <td>1.000000</td>\n",
       "      <td>1.000000</td>\n",
       "      <td>1.000000</td>\n",
       "      <td>1.000000</td>\n",
       "      <td>1.000000</td>\n",
       "      <td>1.000000</td>\n",
       "    </tr>\n",
       "    <tr>\n",
       "      <th>1</th>\n",
       "      <td>1.006146</td>\n",
       "      <td>1.005361</td>\n",
       "      <td>1.006341</td>\n",
       "      <td>0.999733</td>\n",
       "      <td>0.994212</td>\n",
       "      <td>1.000329</td>\n",
       "      <td>0.996184</td>\n",
       "      <td>0.994168</td>\n",
       "      <td>1.003217</td>\n",
       "      <td>0.991309</td>\n",
       "      <td>...</td>\n",
       "      <td>1.002130</td>\n",
       "      <td>1.002730</td>\n",
       "      <td>0.999575</td>\n",
       "      <td>1.007916</td>\n",
       "      <td>0.999632</td>\n",
       "      <td>0.995570</td>\n",
       "      <td>1.001702</td>\n",
       "      <td>1.009336</td>\n",
       "      <td>0.996875</td>\n",
       "      <td>1.001026</td>\n",
       "    </tr>\n",
       "    <tr>\n",
       "      <th>2</th>\n",
       "      <td>1.010245</td>\n",
       "      <td>1.004757</td>\n",
       "      <td>1.006789</td>\n",
       "      <td>0.998060</td>\n",
       "      <td>0.992595</td>\n",
       "      <td>1.003923</td>\n",
       "      <td>0.996583</td>\n",
       "      <td>0.993138</td>\n",
       "      <td>0.996634</td>\n",
       "      <td>0.989082</td>\n",
       "      <td>...</td>\n",
       "      <td>0.999619</td>\n",
       "      <td>1.003822</td>\n",
       "      <td>1.001781</td>\n",
       "      <td>1.009897</td>\n",
       "      <td>1.001575</td>\n",
       "      <td>0.994638</td>\n",
       "      <td>1.005332</td>\n",
       "      <td>1.008815</td>\n",
       "      <td>1.001121</td>\n",
       "      <td>1.005421</td>\n",
       "    </tr>\n",
       "    <tr>\n",
       "      <th>3</th>\n",
       "      <td>1.011403</td>\n",
       "      <td>1.001670</td>\n",
       "      <td>1.009556</td>\n",
       "      <td>0.991204</td>\n",
       "      <td>0.990907</td>\n",
       "      <td>0.997520</td>\n",
       "      <td>0.999643</td>\n",
       "      <td>1.000908</td>\n",
       "      <td>0.993778</td>\n",
       "      <td>0.984730</td>\n",
       "      <td>...</td>\n",
       "      <td>0.996599</td>\n",
       "      <td>1.002883</td>\n",
       "      <td>1.007554</td>\n",
       "      <td>1.014095</td>\n",
       "      <td>1.003176</td>\n",
       "      <td>1.001782</td>\n",
       "      <td>1.006897</td>\n",
       "      <td>1.005804</td>\n",
       "      <td>0.999559</td>\n",
       "      <td>1.006901</td>\n",
       "    </tr>\n",
       "    <tr>\n",
       "      <th>4</th>\n",
       "      <td>1.013207</td>\n",
       "      <td>0.990831</td>\n",
       "      <td>1.011302</td>\n",
       "      <td>0.992947</td>\n",
       "      <td>0.988357</td>\n",
       "      <td>0.996299</td>\n",
       "      <td>0.994314</td>\n",
       "      <td>1.000600</td>\n",
       "      <td>0.996224</td>\n",
       "      <td>0.983153</td>\n",
       "      <td>...</td>\n",
       "      <td>1.005525</td>\n",
       "      <td>1.004494</td>\n",
       "      <td>1.006978</td>\n",
       "      <td>1.006547</td>\n",
       "      <td>1.001592</td>\n",
       "      <td>0.998885</td>\n",
       "      <td>1.006294</td>\n",
       "      <td>1.004220</td>\n",
       "      <td>1.007778</td>\n",
       "      <td>1.003882</td>\n",
       "    </tr>\n",
       "    <tr>\n",
       "      <th>...</th>\n",
       "      <td>...</td>\n",
       "      <td>...</td>\n",
       "      <td>...</td>\n",
       "      <td>...</td>\n",
       "      <td>...</td>\n",
       "      <td>...</td>\n",
       "      <td>...</td>\n",
       "      <td>...</td>\n",
       "      <td>...</td>\n",
       "      <td>...</td>\n",
       "      <td>...</td>\n",
       "      <td>...</td>\n",
       "      <td>...</td>\n",
       "      <td>...</td>\n",
       "      <td>...</td>\n",
       "      <td>...</td>\n",
       "      <td>...</td>\n",
       "      <td>...</td>\n",
       "      <td>...</td>\n",
       "      <td>...</td>\n",
       "      <td>...</td>\n",
       "    </tr>\n",
       "    <tr>\n",
       "      <th>2516</th>\n",
       "      <td>1.323052</td>\n",
       "      <td>1.197034</td>\n",
       "      <td>1.728146</td>\n",
       "      <td>2.221670</td>\n",
       "      <td>2.087351</td>\n",
       "      <td>1.662980</td>\n",
       "      <td>1.537228</td>\n",
       "      <td>2.132607</td>\n",
       "      <td>1.717017</td>\n",
       "      <td>1.435852</td>\n",
       "      <td>...</td>\n",
       "      <td>1.621050</td>\n",
       "      <td>1.891486</td>\n",
       "      <td>2.238843</td>\n",
       "      <td>1.938741</td>\n",
       "      <td>1.555005</td>\n",
       "      <td>2.307092</td>\n",
       "      <td>1.505081</td>\n",
       "      <td>1.615300</td>\n",
       "      <td>1.641636</td>\n",
       "      <td>1.569899</td>\n",
       "    </tr>\n",
       "    <tr>\n",
       "      <th>2517</th>\n",
       "      <td>1.323986</td>\n",
       "      <td>1.203374</td>\n",
       "      <td>1.722633</td>\n",
       "      <td>2.216906</td>\n",
       "      <td>2.084394</td>\n",
       "      <td>1.656189</td>\n",
       "      <td>1.536299</td>\n",
       "      <td>2.127284</td>\n",
       "      <td>1.724779</td>\n",
       "      <td>1.435348</td>\n",
       "      <td>...</td>\n",
       "      <td>1.616185</td>\n",
       "      <td>1.902146</td>\n",
       "      <td>2.232626</td>\n",
       "      <td>1.930053</td>\n",
       "      <td>1.552659</td>\n",
       "      <td>2.313715</td>\n",
       "      <td>1.506076</td>\n",
       "      <td>1.617329</td>\n",
       "      <td>1.637183</td>\n",
       "      <td>1.568079</td>\n",
       "    </tr>\n",
       "    <tr>\n",
       "      <th>2518</th>\n",
       "      <td>1.325891</td>\n",
       "      <td>1.205845</td>\n",
       "      <td>1.723506</td>\n",
       "      <td>2.215168</td>\n",
       "      <td>2.083480</td>\n",
       "      <td>1.657133</td>\n",
       "      <td>1.545565</td>\n",
       "      <td>2.123303</td>\n",
       "      <td>1.737035</td>\n",
       "      <td>1.436367</td>\n",
       "      <td>...</td>\n",
       "      <td>1.616151</td>\n",
       "      <td>1.903197</td>\n",
       "      <td>2.248389</td>\n",
       "      <td>1.927668</td>\n",
       "      <td>1.554358</td>\n",
       "      <td>2.313101</td>\n",
       "      <td>1.509261</td>\n",
       "      <td>1.620915</td>\n",
       "      <td>1.631839</td>\n",
       "      <td>1.549998</td>\n",
       "    </tr>\n",
       "    <tr>\n",
       "      <th>2519</th>\n",
       "      <td>1.331541</td>\n",
       "      <td>1.207573</td>\n",
       "      <td>1.716494</td>\n",
       "      <td>2.210633</td>\n",
       "      <td>2.084804</td>\n",
       "      <td>1.649187</td>\n",
       "      <td>1.548883</td>\n",
       "      <td>2.118711</td>\n",
       "      <td>1.734223</td>\n",
       "      <td>1.442615</td>\n",
       "      <td>...</td>\n",
       "      <td>1.624121</td>\n",
       "      <td>1.902778</td>\n",
       "      <td>2.271270</td>\n",
       "      <td>1.935788</td>\n",
       "      <td>1.559209</td>\n",
       "      <td>2.298707</td>\n",
       "      <td>1.504951</td>\n",
       "      <td>1.609198</td>\n",
       "      <td>1.629099</td>\n",
       "      <td>1.560775</td>\n",
       "    </tr>\n",
       "    <tr>\n",
       "      <th>2520</th>\n",
       "      <td>1.334067</td>\n",
       "      <td>1.199097</td>\n",
       "      <td>1.714629</td>\n",
       "      <td>2.202178</td>\n",
       "      <td>2.091024</td>\n",
       "      <td>1.659932</td>\n",
       "      <td>1.549196</td>\n",
       "      <td>2.114862</td>\n",
       "      <td>1.728080</td>\n",
       "      <td>1.436642</td>\n",
       "      <td>...</td>\n",
       "      <td>1.623772</td>\n",
       "      <td>1.905527</td>\n",
       "      <td>2.264211</td>\n",
       "      <td>1.940201</td>\n",
       "      <td>1.576022</td>\n",
       "      <td>2.303886</td>\n",
       "      <td>1.505104</td>\n",
       "      <td>1.604967</td>\n",
       "      <td>1.640554</td>\n",
       "      <td>1.561605</td>\n",
       "    </tr>\n",
       "  </tbody>\n",
       "</table>\n",
       "<p>2521 rows × 500 columns</p>\n",
       "</div>"
      ],
      "text/plain": [
       "           0         1         2         3         4         5         6    \\\n",
       "0     1.000000  1.000000  1.000000  1.000000  1.000000  1.000000  1.000000   \n",
       "1     1.006146  1.005361  1.006341  0.999733  0.994212  1.000329  0.996184   \n",
       "2     1.010245  1.004757  1.006789  0.998060  0.992595  1.003923  0.996583   \n",
       "3     1.011403  1.001670  1.009556  0.991204  0.990907  0.997520  0.999643   \n",
       "4     1.013207  0.990831  1.011302  0.992947  0.988357  0.996299  0.994314   \n",
       "...        ...       ...       ...       ...       ...       ...       ...   \n",
       "2516  1.323052  1.197034  1.728146  2.221670  2.087351  1.662980  1.537228   \n",
       "2517  1.323986  1.203374  1.722633  2.216906  2.084394  1.656189  1.536299   \n",
       "2518  1.325891  1.205845  1.723506  2.215168  2.083480  1.657133  1.545565   \n",
       "2519  1.331541  1.207573  1.716494  2.210633  2.084804  1.649187  1.548883   \n",
       "2520  1.334067  1.199097  1.714629  2.202178  2.091024  1.659932  1.549196   \n",
       "\n",
       "           7         8         9    ...       490       491       492  \\\n",
       "0     1.000000  1.000000  1.000000  ...  1.000000  1.000000  1.000000   \n",
       "1     0.994168  1.003217  0.991309  ...  1.002130  1.002730  0.999575   \n",
       "2     0.993138  0.996634  0.989082  ...  0.999619  1.003822  1.001781   \n",
       "3     1.000908  0.993778  0.984730  ...  0.996599  1.002883  1.007554   \n",
       "4     1.000600  0.996224  0.983153  ...  1.005525  1.004494  1.006978   \n",
       "...        ...       ...       ...  ...       ...       ...       ...   \n",
       "2516  2.132607  1.717017  1.435852  ...  1.621050  1.891486  2.238843   \n",
       "2517  2.127284  1.724779  1.435348  ...  1.616185  1.902146  2.232626   \n",
       "2518  2.123303  1.737035  1.436367  ...  1.616151  1.903197  2.248389   \n",
       "2519  2.118711  1.734223  1.442615  ...  1.624121  1.902778  2.271270   \n",
       "2520  2.114862  1.728080  1.436642  ...  1.623772  1.905527  2.264211   \n",
       "\n",
       "           493       494       495       496       497       498       499  \n",
       "0     1.000000  1.000000  1.000000  1.000000  1.000000  1.000000  1.000000  \n",
       "1     1.007916  0.999632  0.995570  1.001702  1.009336  0.996875  1.001026  \n",
       "2     1.009897  1.001575  0.994638  1.005332  1.008815  1.001121  1.005421  \n",
       "3     1.014095  1.003176  1.001782  1.006897  1.005804  0.999559  1.006901  \n",
       "4     1.006547  1.001592  0.998885  1.006294  1.004220  1.007778  1.003882  \n",
       "...        ...       ...       ...       ...       ...       ...       ...  \n",
       "2516  1.938741  1.555005  2.307092  1.505081  1.615300  1.641636  1.569899  \n",
       "2517  1.930053  1.552659  2.313715  1.506076  1.617329  1.637183  1.568079  \n",
       "2518  1.927668  1.554358  2.313101  1.509261  1.620915  1.631839  1.549998  \n",
       "2519  1.935788  1.559209  2.298707  1.504951  1.609198  1.629099  1.560775  \n",
       "2520  1.940201  1.576022  2.303886  1.505104  1.604967  1.640554  1.561605  \n",
       "\n",
       "[2521 rows x 500 columns]"
      ]
     },
     "execution_count": 59,
     "metadata": {},
     "output_type": "execute_result"
    }
   ],
   "source": [
    "# Run the Monte Carlo simulation to forecast 10 years cumulative returns\n",
    "sb_hist_mc_sw.calc_cumulative_return()\n"
   ]
  },
  {
   "cell_type": "code",
   "execution_count": 60,
   "metadata": {},
   "outputs": [
    {
     "data": {
      "text/plain": [
       "<AxesSubplot:title={'center':'500 Simulations of Cumulative Portfolio Return Trajectories Over the Next 2520 Trading Days.'}>"
      ]
     },
     "execution_count": 60,
     "metadata": {},
     "output_type": "execute_result"
    },
    {
     "data": {
      "image/png": "[encoded data removed]",
      "text/plain": [
       "<Figure size 432x288 with 1 Axes>"
      ]
     },
     "metadata": {
      "needs_background": "light"
     },
     "output_type": "display_data"
    }
   ],
   "source": [
    "# Visualize the 10-year Monte Carlo simulation by creating an\n",
    "# overlay line plot\n",
    "sb_hist_mc_sw.plot_simulation()\n"
   ]
  },
  {
   "cell_type": "code",
   "execution_count": 61,
   "metadata": {},
   "outputs": [
    {
     "data": {
      "text/plain": [
       "<AxesSubplot:title={'center':'Distribution of Final Cumuluative Returns Across All 500 Simulations'}, ylabel='Frequency'>"
      ]
     },
     "execution_count": 61,
     "metadata": {},
     "output_type": "execute_result"
    },
    {
     "data": {
      "image/png": "[encoded data removed]",
      "text/plain": [
       "<Figure size 432x288 with 1 Axes>"
      ]
     },
     "metadata": {
      "needs_background": "light"
     },
     "output_type": "display_data"
    }
   ],
   "source": [
    "# Visualize the probability distribution of the 10-year Monte Carlo simulation \n",
    "# by plotting a histogram\n",
    "sb_hist_mc_sw.plot_distribution()\n"
   ]
  },
  {
   "cell_type": "code",
   "execution_count": 62,
   "metadata": {},
   "outputs": [
    {
     "data": {
      "text/plain": [
       "count           500.000000\n",
       "mean              1.820779\n",
       "std               0.354044\n",
       "min               0.829119\n",
       "25%               1.582811\n",
       "50%               1.783976\n",
       "75%               2.027241\n",
       "max               3.193066\n",
       "95% CI Lower      1.200625\n",
       "95% CI Upper      2.533031\n",
       "Name: 2520, dtype: float64"
      ]
     },
     "execution_count": 62,
     "metadata": {},
     "output_type": "execute_result"
    }
   ],
   "source": [
    "# Generate summary statistics from the 10-year Monte Carlo simulation results\n",
    "# Save the results as a variable\n",
    "summary_stats_10 = sb_hist_mc_sw.summarize_cumulative_return()\n",
    "\n",
    "\n",
    "# Review the 10-year Monte Carlo summary statistics\n",
    "summary_stats_10"
   ]
  },
  {
   "cell_type": "markdown",
   "metadata": {},
   "source": [
    "### Answer the following questions:"
   ]
  },
  {
   "cell_type": "markdown",
   "metadata": {},
   "source": [
    "#### Question: Using the current value of only the stock and bond portion of the member's portfolio and the summary statistics that you generated from the new Monte Carlo simulation, what are the lower and upper bounds for the expected value of the portfolio (with the new weights) with a 95% confidence interval?"
   ]
  },
  {
   "cell_type": "code",
   "execution_count": 77,
   "metadata": {},
   "outputs": [
    {
     "data": {
      "text/plain": [
       "71568.0"
      ]
     },
     "execution_count": 77,
     "metadata": {},
     "output_type": "execute_result"
    }
   ],
   "source": [
    "# Print the current balance of the stock and bond portion of the members portfolio\n",
    "current_value_sb\n"
   ]
  },
  {
   "cell_type": "code",
   "execution_count": 78,
   "metadata": {},
   "outputs": [
    {
     "name": "stdout",
     "output_type": "stream",
     "text": [
      "The lower bound is $ 85926.36 with a 95% confidence interval.\n",
      "The upper bound is $ 181283.94 with a 95% confidence interval.\n"
     ]
    }
   ],
   "source": [
    "# Use the lower and upper `95%` confidence intervals to calculate the range of the possible outcomes for the current stock/bond portfolio\n",
    "ci_lower_ten_cumulative_return = summary_stats_10.loc['95% CI Lower'] * current_value_sb\n",
    "ci_upper_ten_cumulative_return = summary_stats_10.loc['95% CI Upper'] * current_value_sb\n",
    "\n",
    "# Print the result of your calculations\n",
    "print(f\"The lower bound is ${ci_lower_ten_cumulative_return: .2f} with a 95% confidence interval.\")\n",
    "print(f\"The upper bound is ${ci_upper_ten_cumulative_return: .2f} with a 95% confidence interval.\")\n"
   ]
  },
  {
   "cell_type": "markdown",
   "metadata": {},
   "source": [
    "#### Question: Will weighting the portfolio more heavily to stocks allow the credit union members to retire after only 10 years?"
   ]
  },
  {
   "cell_type": "markdown",
   "metadata": {},
   "source": [
    "**Answer** I would say that the answer depends on how much the credit union members want to retire with. It they wait another 20 years and weight it as we did previously then they can make roughly 300% more on the lower and roughly 2000% more on the upper bound. In my opinion it would be unwise to retire after only 10 years, given that they would be retiring with 85-200k. For some thats the value of a years worth of work. Simply not worth it. To make millions from stocks and bonds alone would provide the credit union members with more financial security, as well as more financial options. So I would say no, weighting stocks more heavily would not allow the members to retire after 10 years. They should invest 60-40% in stocks and bonds respectively and hold for 30 years."
   ]
  },
  {
   "cell_type": "code",
   "execution_count": null,
   "metadata": {},
   "outputs": [],
   "source": []
  }
 ],
 "metadata": {
  "kernelspec": {
   "display_name": "chal_5",
   "language": "python",
   "name": "chal_5"
  },
  "language_info": {
   "codemirror_mode": {
    "name": "ipython",
    "version": 3
   },
   "file_extension": ".py",
   "mimetype": "text/x-python",
   "name": "python",
   "nbconvert_exporter": "python",
   "pygments_lexer": "ipython3",
   "version": "3.7.10"
  }
 },
 "nbformat": 4,
 "nbformat_minor": 4
}
